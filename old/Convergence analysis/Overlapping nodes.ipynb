{
 "cells": [
  {
   "cell_type": "markdown",
   "metadata": {},
   "source": [
    "# Overview\n",
    "\n",
    "This notebook introduces a function to identify overlapping cells on different meshes on the same domain.\n",
    "\n",
    "A key assumption (for the time being) is that individual cells are convex.\n",
    "\n",
    "The algorithm will identify the cell center of a cell is inside a another larger cell. Thus, the algorithm will not be able to take in to account non-overlapping boundaries between differently resoluted grids."
   ]
  },
  {
   "cell_type": "markdown",
   "metadata": {},
   "source": [
    "# Conceptual model\n",
    "\n",
    "This section describes conceptually how the algorithm will work. For the time being, we are considering 2D only.\n",
    "\n",
    "Consider a domain $\\Omega$. Denote different discretizations of $\\Omega$ by $\\omega_i$. A discretization is defined by non-overlapping volumes that in total covers the entire domain exactly.\n",
    "\n",
    "Let $\\omega_c$ be some relatively coarse grid and $\\omega_f$ some refined grid of the same domain.\n",
    "\n",
    "Our goal is to provide a mapping which identifies which cells (cell centers) in $\\omega_f$ are contained in which cells in $\\omega_c$.\n",
    "\n",
    "To do this, we will loop through every cell in the coarse grid, formally construct the convex polygon of the cell, then find which cell (centers) in the fine grid are contained in the coarse grid cell. The information will be stored in a sparse matrix.\n",
    "\n",
    "**NOTE: The algorithm is not stable when points are exactly on boundaries**"
   ]
  },
  {
   "cell_type": "code",
   "execution_count": 159,
   "metadata": {},
   "outputs": [],
   "source": [
    "import porepy as pp\n",
    "import numpy as np\n",
    "import scipy.sparse as sps\n",
    "\n",
    "from porepy.geometry.geometry_property_checks import is_ccw_polyline, is_ccw_polygon, point_in_polygon"
   ]
  },
  {
   "cell_type": "code",
   "execution_count": 158,
   "metadata": {},
   "outputs": [],
   "source": [
    "def make_points_ccw(p, tol=1e-5):\n",
    "    \"\"\"\n",
    "    Return the points sorted in ccw order.\n",
    "    \n",
    "    Sort points in 2D, by ccw order. Not tested for non-convex point sets.\n",
    "    \n",
    "    Parameters:\n",
    "        p (np.ndarray, 2 x n): Points to be sorted.\n",
    "    \n",
    "    Returns:\n",
    "        np.ndarray, ccw sorted list of points.\n",
    "        \n",
    "    Steps of algorithm:\n",
    "    Let poly = p.copy()\n",
    "    \n",
    "    CASE I: 3 points provided.\n",
    "    1. Check if points are collinear.\n",
    "        - If True: Raise ValueError.\n",
    "    2. Run is_ccw_polyline(poly) \n",
    "        - If True: Return poly\n",
    "        - Otherwise: Return poly.copy()[:, ::-1]\n",
    "        \n",
    "    CASE II: 4 points provided.\n",
    "    1. Name the points A,B,C,D.\n",
    "    2. Consider two points, e.g. AB.\n",
    "    3. Check if any of C and D is collinear to AB.\n",
    "        a. If any:\n",
    "            - Raise ValueError\n",
    "    3. Check that C and D is ccw relative to AB\n",
    "        a. If both cw: \n",
    "            - Continue with XY = BA.\n",
    "        b. If one cw and one ccw:\n",
    "            - Continue with XY = AC (or AD, it doesn't matter)\n",
    "        c. If both ccw: \n",
    "            - Continue with XY = AB\n",
    "    4. Name the other two points Z, W.\n",
    "    5. Run is_ccw_polygon on XYZW and XYWZ.\n",
    "        a. Return the case which is True.\n",
    "        \n",
    "    CASE III: Number of points provided > 4.\n",
    "    1. Raise NotYetImplementedError.\n",
    "    \n",
    "    \"\"\"\n",
    "    \n",
    "    num_p = p.shape[1]\n",
    "    poly = p.copy()\n",
    "    \n",
    "    assert(num_p > 2) # Need to provide at least 3 points.\n",
    "    \n",
    "    # CASE I:\n",
    "    if num_p == 3:\n",
    "        A,B,C = poly.T\n",
    "        if np.abs(np.cross(C-A,B-A)) < tol:\n",
    "            raise ValueError(\"Points are collinear.\")\n",
    "        \n",
    "        if is_ccw_polyline(A,B,C,tol=tol):\n",
    "            return poly\n",
    "        else:\n",
    "            return poly.copy()[:, ::-1]\n",
    "    \n",
    "    # CASE II:\n",
    "    elif num_p == 4:\n",
    "        A,B,C,D = poly.T\n",
    "        collC = np.abs(np.cross(C-A,B-A)) < tol\n",
    "        collD = np.abs(np.cross(D-A,B-A)) < tol\n",
    "        if collC or collD:\n",
    "            raise ValueError(\"Some triples of points are collinear.\")\n",
    "        \n",
    "        orientations = is_ccw_polyline(A,B,np.array((C,D)).T)\n",
    "        if np.all(np.logical_not(orientations)):  # Both other pts are cw.\n",
    "            A,B = B,A\n",
    "        elif np.any(np.logical_not(orientations)): # Exactly one pt is cw.\n",
    "            B,C=C,B\n",
    "        \n",
    "        # Either ABCD or ABDC is either cw or ccw.\n",
    "        arr1 = np.array((A,B,C,D)).T\n",
    "        arr2 = np.array((A,B,D,C)).T\n",
    "        if is_ccw_polygon(arr1):\n",
    "            return arr1\n",
    "        elif is_ccw_polygon(arr1[:, ::-1]):\n",
    "            return arr1[:, ::-1]\n",
    "        elif is_ccw_polygon(arr2):\n",
    "            return arr2\n",
    "        elif is_ccw_polygon(arr2[:, ::-1]):\n",
    "            return arr2[:, ::-1]\n",
    "        else:\n",
    "            raise Error(\"An unexpected error occured.\")\n",
    "        \n",
    "    \n",
    "    elif num_p > 4:\n",
    "        raise NotImplemented(\"Not implemented for larger polygons.\")"
   ]
  },
  {
   "cell_type": "code",
   "execution_count": 203,
   "metadata": {},
   "outputs": [],
   "source": [
    "def identify_overlap(gc, gf):\n",
    "    \"\"\"\n",
    "    Method to find overlapping cells in two grids over the same domain (2D).\n",
    "    \n",
    "    Parameters:\n",
    "    gc (porepy.Grid): The coarse grid with Nc number of cells\n",
    "    gf (porepy.Grid): The fine grid with Nf number of cells\n",
    "    \n",
    "    Returns:\n",
    "    Nf x Nc sparse matrix: If entry (i,j)  contains 1, then cell i in the fine grid \n",
    "                           is contained in cell j in the coarse grid.\n",
    "                            \n",
    "    \"\"\"\n",
    "    \n",
    "    # cell_nodes is a num_nodes x num_cells sparse column oriented matrix. (sps.csc_matrix).\n",
    "    ccell_nodes = gc.cell_nodes()\n",
    "    cnnz = ccell_nodes.nnz\n",
    "    slices = zip(ccell_nodes.indptr[:-1], ccell_nodes.indptr[1:])\n",
    "    \n",
    "    # Create sps.csc_matrix mapping coarse cells to fine cell centers.\n",
    "    indptr = [0]\n",
    "    indices = []\n",
    "    \n",
    "    for st, nd in slices:  # Loop through every cell.\n",
    "        nodes = ccell_nodes.indices[st:nd]\n",
    "        node_coords = np.array(gc.nodes[:,nodes][0:2])\n",
    "        poly = make_points_ccw(node_coords)\n",
    "        inside = point_in_polygon(poly, gf.cell_centers)#, tol=1e-5, default=True)\n",
    "        inside_id = np.array([i for i, x in enumerate(inside) if x])  # Location of the (fine) nodes inside the coarse cell.\n",
    "        \n",
    "        indptr.extend([indptr[-1]+len(inside_id)])  # Update index pointer\n",
    "        indices.extend(inside_id)  # Update indices of fine cells for the current coarse cell.\n",
    "    \n",
    "    data = np.ones(len(indices))\n",
    "    \n",
    "    ccell_fcell = sps.csc_matrix((data, indices, indptr))\n",
    "    return ccell_fcell\n",
    "        "
   ]
  },
  {
   "cell_type": "markdown",
   "metadata": {},
   "source": [
    "# Do some testing that the algorithm works\n",
    "\n",
    "Note that if points are exactly on the boundary, the algorithm will fail.\n",
    "Some solutions to this should be considered.\n",
    "\n",
    "E.g. When the mapping is constructed, find the points with no map, then find any (the first) coarse grid where this cell may be put."
   ]
  },
  {
   "cell_type": "code",
   "execution_count": 204,
   "metadata": {},
   "outputs": [],
   "source": [
    "Nx=Ny=2\n",
    "physdims=[1,1]\n",
    "gc = pp.CartGrid([Nx,Ny], physdims=physdims)\n",
    "gc.compute_geometry()\n",
    "\n",
    "N2 = 3\n",
    "gf = pp.CartGrid([N2,N2], physdims=physdims)\n",
    "gf.compute_geometry()"
   ]
  },
  {
   "cell_type": "code",
   "execution_count": 205,
   "metadata": {},
   "outputs": [
    {
     "data": {
      "text/plain": [
       "array([[1., 0., 0., 0.],\n",
       "       [1., 1., 0., 0.],\n",
       "       [0., 1., 0., 0.],\n",
       "       [1., 0., 1., 0.],\n",
       "       [1., 1., 1., 1.],\n",
       "       [0., 1., 0., 1.],\n",
       "       [0., 0., 1., 0.],\n",
       "       [0., 0., 1., 1.],\n",
       "       [0., 0., 0., 1.]])"
      ]
     },
     "execution_count": 205,
     "metadata": {},
     "output_type": "execute_result"
    }
   ],
   "source": [
    "m = identify_overlap(gc=gc,gf=gf)\n",
    "m.toarray()"
   ]
  },
  {
   "cell_type": "code",
   "execution_count": 206,
   "metadata": {},
   "outputs": [
    {
     "data": {
      "image/png": "[encoded data removed]",
      "text/plain": [
       "<Figure size 432x288 with 1 Axes>"
      ]
     },
     "metadata": {
      "needs_background": "light"
     },
     "output_type": "display_data"
    }
   ],
   "source": [
    "pp.plot_grid(gc, info='c', alpha=0.5)"
   ]
  },
  {
   "cell_type": "code",
   "execution_count": 207,
   "metadata": {},
   "outputs": [
    {
     "data": {
      "image/png": "[encoded data removed]",
      "text/plain": [
       "<Figure size 432x288 with 1 Axes>"
      ]
     },
     "metadata": {
      "needs_background": "light"
     },
     "output_type": "display_data"
    }
   ],
   "source": [
    "pp.plot_grid(gf, info='c', alpha=0.5)"
   ]
  },
  {
   "cell_type": "code",
   "execution_count": null,
   "metadata": {},
   "outputs": [],
   "source": []
  }
 ],
 "metadata": {
  "kernelspec": {
   "display_name": "Python 3",
   "language": "python",
   "name": "python3"
  },
  "language_info": {
   "codemirror_mode": {
    "name": "ipython",
    "version": 3
   },
   "file_extension": ".py",
   "mimetype": "text/x-python",
   "name": "python",
   "nbconvert_exporter": "python",
   "pygments_lexer": "ipython3",
   "version": "3.7.3"
  }
 },
 "nbformat": 4,
 "nbformat_minor": 2
}
