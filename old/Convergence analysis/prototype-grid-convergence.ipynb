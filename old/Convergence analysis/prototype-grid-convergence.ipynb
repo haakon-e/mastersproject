{
 "cells": [
  {
   "cell_type": "markdown",
   "metadata": {},
   "source": [
    "# Overview\n",
    "This notebook is intended to provide some easy methods for computing grid convergence.\n",
    "\n",
    "\n",
    "The governing equation and setup is described below.\n",
    "\n",
    "## Setup\n",
    "Let's setup the problem.\n",
    "\n",
    "Recall, our aim is to solve single-phase flow,\n",
    "$$-\\nabla\\cdot K \\nabla p = f$$\n",
    "over the domain $\\Omega$. \n",
    "\n",
    "The boundary conditions will be defined over $\\partial\\Omega$, and are mathematically written as\n",
    "$$p=p_b, \\quad -K\\nabla p \\cdot \\mathbf{n} = u_b$$\n",
    "for Dirichlet ($\\partial\\Omega_d$) and Neumann ($\\partial\\Omega_n$) conditions respectively.\n",
    "\n",
    "$f$ is a scalar source/sink term. $K$ is the permeability matrix. $p_b$ is the pressure at the boundary (Dirichlet), $u_b$ is the flux at the boundary (Neumann).\n",
    "\n",
    "The basic setup is:\n",
    "$$\n",
    "\\Omega = [0,1]^2, \\quad \n",
    "\\partial \\Omega_n = \\{\\text{'west', 'east'}\\},\\quad \n",
    "\\partial \\Omega_d = \\{\\text{'south', 'north'}\\} \n",
    "$$\n",
    "\n",
    "with data: \n",
    "$$\n",
    "f=0, \\quad\n",
    "K=1, \\quad \n",
    "u_b = 0, \\quad\n",
    "\\text{ and }\\quad  \n",
    "p_b = 1 \\text{ at top}, \\quad\n",
    "p_b = 0 \\text{ at bottom}\n",
    "$$"
   ]
  },
  {
   "cell_type": "code",
   "execution_count": 1,
   "metadata": {},
   "outputs": [],
   "source": [
    "# Imports\n",
    "import numpy as np\n",
    "import scipy.sparse as sps\n",
    "import porepy as pp\n",
    "import matplotlib.pyplot as plt"
   ]
  },
  {
   "cell_type": "code",
   "execution_count": 2,
   "metadata": {},
   "outputs": [],
   "source": [
    "from porepy.geometry.geometry_property_checks import is_ccw_polyline, is_ccw_polygon, point_in_polygon\n",
    "\n",
    "def make_points_ccw(p, tol=1e-5):\n",
    "    \"\"\"\n",
    "    Return the points sorted in ccw order.\n",
    "    \n",
    "    Sort points in 2D, by ccw order. Not tested for non-convex point sets.\n",
    "    \n",
    "    Parameters:\n",
    "        p (np.ndarray, 2 x n): Points to be sorted.\n",
    "    \n",
    "    Returns:\n",
    "        np.ndarray, ccw sorted list of points.\n",
    "        \n",
    "    Steps of algorithm:\n",
    "    Let poly = p.copy()\n",
    "    \n",
    "    CASE I: 3 points provided.\n",
    "    1. Check if points are collinear.\n",
    "        - If True: Raise ValueError.\n",
    "    2. Run is_ccw_polyline(poly) \n",
    "        - If True: Return poly\n",
    "        - Otherwise: Return poly.copy()[:, ::-1]\n",
    "        \n",
    "    CASE II: 4 points provided.\n",
    "    1. Name the points A,B,C,D.\n",
    "    2. Consider two points, e.g. AB.\n",
    "    3. Check if any of C and D is collinear to AB.\n",
    "        a. If any:\n",
    "            - Raise ValueError\n",
    "    3. Check that C and D is ccw relative to AB\n",
    "        a. If both cw: \n",
    "            - Continue with XY = BA.\n",
    "        b. If one cw and one ccw:\n",
    "            - Continue with XY = AC (or AD, it doesn't matter)\n",
    "        c. If both ccw: \n",
    "            - Continue with XY = AB\n",
    "    4. Name the other two points Z, W.\n",
    "    5. Run is_ccw_polygon on XYZW and XYWZ.\n",
    "        a. Return the case which is True.\n",
    "        \n",
    "    CASE III: Number of points provided > 4.\n",
    "    1. Raise NotYetImplementedError.\n",
    "    \n",
    "    \"\"\"\n",
    "    \n",
    "    num_p = p.shape[1]\n",
    "    poly = p.copy()\n",
    "    \n",
    "    assert(num_p > 2) # Need to provide at least 3 points.\n",
    "    \n",
    "    # CASE I:\n",
    "    if num_p == 3:\n",
    "        A,B,C = poly.T\n",
    "        if np.abs(np.cross(C-A,B-A)) < tol:\n",
    "            raise ValueError(\"Points are collinear.\")\n",
    "        \n",
    "        if is_ccw_polyline(A,B,C,tol=tol):\n",
    "            return poly\n",
    "        else:\n",
    "            return poly.copy()[:, ::-1]\n",
    "    \n",
    "    # CASE II:\n",
    "    elif num_p == 4:\n",
    "        A,B,C,D = poly.T\n",
    "        collC = np.abs(np.cross(C-A,B-A)) < tol\n",
    "        collD = np.abs(np.cross(D-A,B-A)) < tol\n",
    "        if collC or collD:\n",
    "            raise ValueError(\"Some triples of points are collinear.\")\n",
    "        \n",
    "        orientations = is_ccw_polyline(A,B,np.array((C,D)).T)\n",
    "        if np.all(np.logical_not(orientations)):  # Both other pts are cw.\n",
    "            A,B = B,A\n",
    "        elif np.any(np.logical_not(orientations)): # Exactly one pt is cw.\n",
    "            B,C=C,B\n",
    "        \n",
    "        # Either ABCD or ABDC is either cw or ccw.\n",
    "        arr1 = np.array((A,B,C,D)).T\n",
    "        arr2 = np.array((A,B,D,C)).T\n",
    "        if is_ccw_polygon(arr1):\n",
    "            return arr1\n",
    "        elif is_ccw_polygon(arr1[:, ::-1]):\n",
    "            return arr1[:, ::-1]\n",
    "        elif is_ccw_polygon(arr2):\n",
    "            return arr2\n",
    "        elif is_ccw_polygon(arr2[:, ::-1]):\n",
    "            return arr2[:, ::-1]\n",
    "        else:\n",
    "            raise Error(\"An unexpected error occured.\")\n",
    "        \n",
    "    \n",
    "    elif num_p > 4:\n",
    "        raise NotImplemented(\"Not implemented for larger polygons.\")\n",
    "        \n",
    "\n",
    "def identify_overlap(gc, gf):\n",
    "    \"\"\"\n",
    "    Method to find overlapping cells in two grids over the same domain (2D).\n",
    "    \n",
    "    Parameters:\n",
    "    gc (porepy.Grid): The coarse grid with Nc number of cells\n",
    "    gf (porepy.Grid): The fine grid with Nf number of cells\n",
    "    \n",
    "    Returns:\n",
    "    Nf x Nc sparse matrix: If entry (i,j)  contains 1, then cell i in the fine grid \n",
    "                           is contained in cell j in the coarse grid.\n",
    "                            \n",
    "    \"\"\"\n",
    "    \n",
    "    # cell_nodes is a num_nodes x num_cells sparse column oriented matrix. (sps.csc_matrix).\n",
    "    ccell_nodes = gc.cell_nodes()\n",
    "    cnnz = ccell_nodes.nnz\n",
    "    slices = zip(ccell_nodes.indptr[:-1], ccell_nodes.indptr[1:])\n",
    "    \n",
    "    # Create sps.csc_matrix mapping coarse cells to fine cell centers.\n",
    "    indptr = [0]\n",
    "    indices = []\n",
    "    \n",
    "    for st, nd in slices:  # Loop through every cell.\n",
    "        nodes = ccell_nodes.indices[st:nd]\n",
    "        node_coords = np.array(gc.nodes[:,nodes][0:2])\n",
    "        poly = make_points_ccw(node_coords)\n",
    "        inside = point_in_polygon(poly, gf.cell_centers)#, tol=1e-5, default=True)\n",
    "        inside_id = np.array([i for i, x in enumerate(inside) if x])  # Location of the (fine) nodes inside the coarse cell.\n",
    "        \n",
    "        indptr.extend([indptr[-1]+len(inside_id)])  # Update index pointer\n",
    "        indices.extend(inside_id)  # Update indices of fine cells for the current coarse cell.\n",
    "    \n",
    "    data = np.ones(len(indices))\n",
    "    \n",
    "    ccell_fcell = sps.csc_matrix((data, indices, indptr))\n",
    "    return ccell_fcell\n",
    "        "
   ]
  },
  {
   "cell_type": "code",
   "execution_count": 3,
   "metadata": {},
   "outputs": [],
   "source": [
    "def sp_flow(g):\n",
    "    \"\"\" Method to compute single phase flow for a given grid.\"\"\"\n",
    "    \n",
    "    # Boundary conditions\n",
    "    b_faces = g.tags['domain_boundary_faces'].nonzero()[0]\n",
    "    labels = np.array(['neu']*b_faces.size)\n",
    "    labels[g.face_centers[1, b_faces] == 0.] = 'dir'\n",
    "    labels[g.face_centers[1, b_faces] == 1.] = 'dir'\n",
    "    \n",
    "    bc = pp.BoundaryCondition(g, b_faces, labels)\n",
    "    \n",
    "    # In-flow on top. outflow on bottom.\n",
    "    #bottom = b_faces[g.face_centers[1, b_faces] == 0.]\n",
    "    top = b_faces[g.face_centers[1, b_faces] == 1.]\n",
    "    bc_val = np.zeros(g.num_faces)\n",
    "    #bc_val[bottom] = np.zeros(bottom.size)\n",
    "    bc_val[top] = np.ones(top.size)\n",
    "    \n",
    "    # Permeability\n",
    "    perm = pp.SecondOrderTensor(np.ones(g.num_cells))\n",
    "    \n",
    "    # Source\n",
    "    f = np.zeros(g.num_cells)\n",
    "    \n",
    "    # Build problem\n",
    "    specified_parameters = {\"second_order_tensor\": perm, \"source\": f, \"bc\": bc, \"bc_values\": bc_val}\n",
    "    data = pp.initialize_default_data(g, {}, \"flow\", specified_parameters)\n",
    "    \n",
    "    # Solve problem\n",
    "    solver = pp.Tpfa(\"flow\")\n",
    "    solver.discretize(g, data)\n",
    "    A, b = solver.assemble_matrix_rhs(g, data)\n",
    "    p = sps.linalg.spsolve(A, b)\n",
    "    return p"
   ]
  },
  {
   "cell_type": "code",
   "execution_count": 4,
   "metadata": {},
   "outputs": [],
   "source": [
    "def grid_convergence(N=[8,16,32,64,128],plotting=False):\n",
    "    \"\"\" Compute grid convergence. Use last N as reference value\"\"\"\n",
    "    norm = np.ones(len(N)-1)\n",
    "    \n",
    "    sol = [] # Store all solutions\n",
    "    g_bucket = []  # Store all grids\n",
    "    for i in range(len(N)):\n",
    "        Nx = Ny = N[i]\n",
    "         # Create grid\n",
    "        g = pp.CartGrid([Nx,Ny], [1,1])\n",
    "        g.compute_geometry()\n",
    "        g_bucket.append(g.copy())\n",
    "        \n",
    "        # Compute solution\n",
    "        sol.append(sp_flow(g))\n",
    "        \n",
    "        # Compute L2-norm.\n",
    "        # Not sure if this is accurate since we are not comparing\n",
    "        # the same volumes, rather doing norm over all current values\n",
    "        #norm[i] = pp.error.norm_L2(g, val)\n",
    "    \n",
    "    # Now, map all coarse solution to the fine grid.\n",
    "    mapped_sol = []\n",
    "    ref_grid_num_cells = len(sol[-1])\n",
    "    g_ref = g_bucket[-1]\n",
    "    ref_sol = sol[-1]\n",
    "    for i in range(len(N)-1): \n",
    "        arr = np.zeros(ref_grid_num_cells)\n",
    "        g = g_bucket[i]\n",
    "        p = sol[i]\n",
    "        \n",
    "        mapping = identify_overlap(gc=g, gf=g_ref)\n",
    "        slices = zip(mapping.indptr[:-1], mapping.indptr[1:])\n",
    "        for j, stnd in enumerate(slices):\n",
    "            st,nd=stnd\n",
    "            nodes = mapping.indices[st:nd]\n",
    "            arr[nodes] = p[j]\n",
    "            \n",
    "        mapped_sol.append(arr)\n",
    "        norm[i] = pp.error.norm_L2(g_ref,arr-ref_sol)\n",
    "        \n",
    "       \n",
    "        \n",
    "        \n",
    "    #errors = np.abs(norm[:-1] - norm[-1])\n",
    "    errors=norm\n",
    "    slope = np.log(errors[-1] / errors[-2]) / np.log(N[-2] / N[-3])\n",
    "    slope = np.abs(slope)\n",
    "        \n",
    "    if plotting:\n",
    "        plt.loglog(N[:-1], errors)\n",
    "        plt.title(f\"Slope: {slope}\")\n",
    "        plt.show()\n",
    "    \n",
    "    return errors, slope\n",
    "        "
   ]
  },
  {
   "cell_type": "code",
   "execution_count": 5,
   "metadata": {},
   "outputs": [
    {
     "data": {
      "image/png": "[encoded data removed]",
      "text/plain": [
       "<Figure size 432x288 with 1 Axes>"
      ]
     },
     "metadata": {
      "needs_background": "light"
     },
     "output_type": "display_data"
    }
   ],
   "source": [
    "ms = grid_convergence(N=[8,16,32,64,128], plotting=True)"
   ]
  },
  {
   "cell_type": "code",
   "execution_count": 6,
   "metadata": {},
   "outputs": [
    {
     "data": {
      "text/plain": [
       "(array([0.03601385, 0.01790069, 0.00873464, 0.00390625]), 1.1609640474436822)"
      ]
     },
     "execution_count": 6,
     "metadata": {},
     "output_type": "execute_result"
    }
   ],
   "source": [
    "ms\n"
   ]
  },
  {
   "cell_type": "code",
   "execution_count": 7,
   "metadata": {},
   "outputs": [
    {
     "data": {
      "image/png": "[encoded data removed]",
      "text/plain": [
       "<Figure size 1080x864 with 2 Axes>"
      ]
     },
     "metadata": {
      "needs_background": "light"
     },
     "output_type": "display_data"
    }
   ],
   "source": [
    "# For reference, a plot of the solution:\n",
    "Nx = Ny = 16\n",
    "g = pp.CartGrid([Nx,Ny], [1,1])\n",
    "g.compute_geometry()\n",
    "p = sp_flow(g)\n",
    "pp.plot_grid(g, p, figsize=(15,12), plot_2d=True)"
   ]
  },
  {
   "cell_type": "code",
   "execution_count": 8,
   "metadata": {},
   "outputs": [
    {
     "name": "stderr",
     "output_type": "stream",
     "text": [
      "/home/haakon/anaconda3/lib/python3.7/site-packages/vtk/util/numpy_support.py:137: FutureWarning: Conversion of the second argument of issubdtype from `complex` to `np.complexfloating` is deprecated. In future, it will be treated as `np.complex128 == np.dtype(complex).type`.\n",
      "  assert not numpy.issubdtype(z.dtype, complex), \\\n"
     ]
    }
   ],
   "source": [
    "save = pp.Exporter(g, \"solution\", folder=\"results\")\n",
    "save.write_vtk({\"pressure\": p})"
   ]
  },
  {
   "cell_type": "code",
   "execution_count": null,
   "metadata": {},
   "outputs": [],
   "source": []
  }
 ],
 "metadata": {
  "kernelspec": {
   "display_name": "Python 3",
   "language": "python",
   "name": "python3"
  },
  "language_info": {
   "codemirror_mode": {
    "name": "ipython",
    "version": 3
   },
   "file_extension": ".py",
   "mimetype": "text/x-python",
   "name": "python",
   "nbconvert_exporter": "python",
   "pygments_lexer": "ipython3",
   "version": "3.7.3"
  }
 },
 "nbformat": 4,
 "nbformat_minor": 2
}
