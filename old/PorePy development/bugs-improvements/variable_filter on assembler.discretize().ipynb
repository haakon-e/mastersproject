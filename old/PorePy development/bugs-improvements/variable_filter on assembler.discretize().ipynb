{
 "cells": [
  {
   "cell_type": "markdown",
   "metadata": {},
   "source": [
    "# Overview\n",
    "This notebook reproduces a bug where `assembler.assemble_matrix_rhs()` returns and error if a `variable_filter` or `term_filter` is used when discretizing.\n",
    "\n",
    "\n",
    "Status: Not able to create error in current setup (non-fractured domains).\n",
    "\n",
    "Next step: Try with fractured domain."
   ]
  },
  {
   "cell_type": "code",
   "execution_count": 19,
   "metadata": {},
   "outputs": [],
   "source": [
    "import porepy as pp\n",
    "import numpy as np\n",
    "\n",
    "import scipy.sparse as sps"
   ]
  },
  {
   "cell_type": "code",
   "execution_count": 20,
   "metadata": {},
   "outputs": [],
   "source": [
    "def create_domain(N=[2, 2]):\n",
    "    \"\"\" Create a simple non-fractured domain.\"\"\"\n",
    "    #fracture = np.array([[0, 1], [0.5, 0.5]])\n",
    "    gb = pp.meshing.cart_grid([], N, physdims=[1,1])\n",
    "    return gb"
   ]
  },
  {
   "cell_type": "code",
   "execution_count": 21,
   "metadata": {},
   "outputs": [],
   "source": [
    "def assign_data(gb, kw_flow):\n",
    "    \"\"\" Assign default data to a diffusion operator.\"\"\"\n",
    "    \n",
    "    tol = 1e-4\n",
    "    for g, d in gb:\n",
    "        \n",
    "        # Assign dirichlet flow from left to right\n",
    "        b_faces = g.tags[\"domain_boundary_faces\"].nonzero()[0]\n",
    "        bc_val = np.zeros(g.num_faces)\n",
    "        \n",
    "        if b_faces.size != 0:\n",
    "\n",
    "            b_face_centers = g.face_centers[:, b_faces]\n",
    "            b_inflow = b_face_centers[0, :] < tol\n",
    "            b_outflow = b_face_centers[0, :] > 1-tol\n",
    "\n",
    "            labels = np.array([\"neu\"] * b_faces.size)\n",
    "            labels[np.logical_or(b_inflow, b_outflow)] = \"dir\"\n",
    "            bc = pp.BoundaryCondition(g, b_faces, labels)\n",
    "\n",
    "            bc_val[b_faces[b_inflow]] = 1\n",
    "        else:\n",
    "            bc = pp.BoundaryCondition(g)\n",
    "        \n",
    "        specified_parameters = {'bc': bc, 'bc_values': bc_val}\n",
    "        pp.initialize_default_data(g, d, 'flow', specified_parameters, kw_flow)\n",
    "        \n",
    "    return gb"
   ]
  },
  {
   "cell_type": "code",
   "execution_count": 22,
   "metadata": {},
   "outputs": [],
   "source": [
    "# Create a simple non-fractured domain\n",
    "gb = create_domain()\n",
    "\n",
    "# We consider one equation and one variable ...\n",
    "flow_keyword = 'flow'\n",
    "gb = assign_data(gb, flow_keyword)\n",
    "\n",
    "# Extract the 2-dimensional grid, for convenience.\n",
    "g = gb.grids_of_dimension(2)[0]\n",
    "data = gb.node_props(g)\n",
    "\n",
    "flow_variable = 'pressure'\n",
    "\n",
    "# ... with two terms. (Both diffusive)\n",
    "flow_operator_key_1 = 'diffusion_1'\n",
    "flow_operator_key_2 = 'diffusion_2'\n",
    "\n",
    "flow_discretization_1 = pp.Tpfa(flow_keyword)\n",
    "flow_discretization_2 = pp.Tpfa(flow_keyword)\n",
    "\n",
    "# Set the discretization relations\n",
    "data[pp.PRIMARY_VARIABLES] = {flow_variable: {\"cells\": 1}}\n",
    "data[pp.DISCRETIZATION] = {\n",
    "    flow_variable: {\n",
    "        flow_operator_key_1: flow_discretization_1,\n",
    "        flow_operator_key_2: flow_discretization_2,\n",
    "    }\n",
    "}"
   ]
  },
  {
   "cell_type": "code",
   "execution_count": 23,
   "metadata": {},
   "outputs": [],
   "source": [
    "# Assemble the system\n",
    "assembler = pp.Assembler(gb)\n",
    "assembler.discretize()  # No term filter\n",
    "\n",
    "# Solve the system:\n",
    "A, b = assembler.assemble_matrix_rhs()\n",
    "x = sps.linalg.spsolve(A, b)\n",
    "\n",
    "assembler.distribute_variable(x)\n"
   ]
  },
  {
   "cell_type": "code",
   "execution_count": 24,
   "metadata": {},
   "outputs": [
    {
     "data": {
      "image/png": "[encoded data removed]",
      "text/plain": [
       "<Figure size 432x288 with 2 Axes>"
      ]
     },
     "metadata": {
      "needs_background": "light"
     },
     "output_type": "display_data"
    }
   ],
   "source": [
    "pp.plot_grid(gb, flow_variable)"
   ]
  },
  {
   "cell_type": "markdown",
   "metadata": {},
   "source": [
    "# Summary\n",
    "Above, we demonstrated an equation with two (identical) diffusive terms, e.g.:\n",
    "$$- \\nabla \\cdot (K \\nabla p) - \\nabla \\cdot (K \\nabla p) = 0$$\n",
    "\n",
    "# Next, apply a variable filter on discretization"
   ]
  },
  {
   "cell_type": "code",
   "execution_count": 25,
   "metadata": {},
   "outputs": [],
   "source": [
    "assembler = pp.Assembler(gb)\n",
    "assembler.discretize(term_filter=[flow_operator_key_1])\n",
    "\n",
    "# Solve the system:\n",
    "A, b = assembler.assemble_matrix_rhs()\n",
    "x = sps.linalg.spsolve(A, b)\n",
    "\n",
    "assembler.distribute_variable(x)"
   ]
  },
  {
   "cell_type": "code",
   "execution_count": null,
   "metadata": {},
   "outputs": [],
   "source": []
  }
 ],
 "metadata": {
  "kernelspec": {
   "display_name": "Python 3",
   "language": "python",
   "name": "python3"
  },
  "language_info": {
   "codemirror_mode": {
    "name": "ipython",
    "version": 3
   },
   "file_extension": ".py",
   "mimetype": "text/x-python",
   "name": "python",
   "nbconvert_exporter": "python",
   "pygments_lexer": "ipython3",
   "version": "3.7.3"
  }
 },
 "nbformat": 4,
 "nbformat_minor": 2
}
