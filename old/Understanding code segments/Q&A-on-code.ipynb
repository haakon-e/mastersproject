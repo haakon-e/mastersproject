{
 "cells": [
  {
   "cell_type": "markdown",
   "metadata": {},
   "source": [
    "# Explain parts of porepy code\n",
    "This notebook will question, and hopefully answer parts of complicated code."
   ]
  },
  {
   "cell_type": "markdown",
   "metadata": {},
   "source": [
    "## Exporting solutions to ParaView\n",
    "\n",
    "When working on biot, I want to export both displacements and pressures.\n",
    "\n",
    "Because I model with a fracture, I get an error doing this because the state-field for displacement doesn't exist on fractures.\n",
    "\n",
    "* What are possible solutions to this?\n",
    "\n",
    "**_Solution_**: Add a zero-vector of appropriate size to the fractures.\n",
    "\n",
    "### Vector solutions\n",
    "\n",
    "Vector solutions exported to Paraview seems to require them being ordered like `(g.dim, g.num_cells)`, as opposed to a one-dimensional array of `x0, y0, z0, x1, y1, ...`, (fortran style), which is how the vector-valued state variables are stored.\n",
    "\n",
    "Currently, I am creating a new state-variable `u_`, which stores the current state-solution on the format `(g.dim, g.num_cells)`. This allows the export to Paraview\n",
    "\n",
    "### Vector solution in ParaView\n",
    "With the above solution, an error in Paraview occurs:\n",
    "```\n",
    "ERROR: In /build/paraview-lH8wFv/paraview-5.4.1+dfsg3/VTK/IO/XML/vtkXMLDataReader.cxx, line 479\n",
    "vtkXMLUnstructuredGridReader (0x5612c8fe4c00): Cannot read cell data array \"u_\" from PointData in piece 0.  The data array in the element may be too short.\n",
    "```\n",
    "\n",
    "I am not sure why, or what this means."
   ]
  },
  {
   "cell_type": "markdown",
   "metadata": {},
   "source": [
    "## Meshing grids\n",
    "Fine grids (in 3D) seems to run out of memory on generation. How can this issue be adressed?"
   ]
  },
  {
   "cell_type": "code",
   "execution_count": null,
   "metadata": {},
   "outputs": [],
   "source": []
  }
 ],
 "metadata": {
  "kernelspec": {
   "display_name": "Python 3",
   "language": "python",
   "name": "python3"
  },
  "language_info": {
   "codemirror_mode": {
    "name": "ipython",
    "version": 3
   },
   "file_extension": ".py",
   "mimetype": "text/x-python",
   "name": "python",
   "nbconvert_exporter": "python",
   "pygments_lexer": "ipython3",
   "version": "3.7.3"
  }
 },
 "nbformat": 4,
 "nbformat_minor": 2
}
