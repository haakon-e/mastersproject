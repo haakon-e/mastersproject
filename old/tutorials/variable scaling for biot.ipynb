{
 "cells": [
  {
   "cell_type": "markdown",
   "metadata": {},
   "source": [
    "# Variable scaling Contact Mechanics Biot\n",
    "This notebook explains how the Biot equation with contact mechanics is scaled in PorePy.\n",
    "\n",
    "# Governing Equations\n",
    "We present the governing equations for each subdomain on a domain with a 3D background mesh.\n",
    "### $\\Omega_h \\in \\mathbb{R}^3$ \n",
    "\n",
    "The primary variables are displacement $u_h$ [m] and pressure $p_h$ [Pa].\n",
    "\n",
    "#### Mechanics\n",
    "\n",
    "\\begin{equation}\n",
    "\\nabla \\cdot \\left( C_h : \\nabla_s u_h - \\alpha_h p_h I\\right) = b_h\n",
    "\\end{equation}\n",
    "\n",
    "where $C_h$ is stiffness tensor, which for a linear elastic material is expressed as a linear combination of the Lamé parameters, and $\\nabla_s$ is the symmetric gradient, such that $\\nabla_s u_h = \\frac{1}{2}(\\nabla u_h + (\\nabla u_h)^T)$. The Lamé parameters have units Pascal. The parameter $\\alpha_h$, which is dimensionless, is the Biot coefficient. The source term $b_h$ is in PorePy the negative of the integrated source stress per unit length. Such that a lithostatic source condition would be implemented as\n",
    "$$b_h(cell_i) = -\\begin{bmatrix}0 \\\\ 0 \\\\ -\\rho g V_{cell_i}\\end{bmatrix} = \\begin{bmatrix}0 \\\\ 0 \\\\ \\rho g V_{cell_i}\\end{bmatrix}$$\n",
    "\n",
    "\n",
    "\n",
    "#### Flow\n",
    "\n",
    "\\begin{equation}\n",
    "\\alpha_h \\frac{\\partial (\\nabla\\cdot u_h)}{\\partial t} + \\theta_h \\frac{\\partial p_h}{\\partial t} - \\nabla\\cdot \\left( \\frac{\\mathcal{K}_h}{\\mu_h} \\nabla p_h \\right) = f_h\n",
    "\\end{equation}\n",
    "\n",
    "where $\\theta_h$ is the effective storage coefficient (or compressibility) [$Pa^{-1}$], $\\mathcal{K}_h$ is the permeability [$m^2$] and $\\mu_h$ is the fluid viscosity. The source term $f_h$ "
   ]
  },
  {
   "cell_type": "markdown",
   "metadata": {},
   "source": []
  },
  {
   "cell_type": "code",
   "execution_count": null,
   "metadata": {},
   "outputs": [],
   "source": []
  }
 ],
 "metadata": {
  "kernelspec": {
   "display_name": "Python 3",
   "language": "python",
   "name": "python3"
  },
  "language_info": {
   "codemirror_mode": {
    "name": "ipython",
    "version": 3
   },
   "file_extension": ".py",
   "mimetype": "text/x-python",
   "name": "python",
   "nbconvert_exporter": "python",
   "pygments_lexer": "ipython3",
   "version": "3.7.6"
  }
 },
 "nbformat": 4,
 "nbformat_minor": 4
}
