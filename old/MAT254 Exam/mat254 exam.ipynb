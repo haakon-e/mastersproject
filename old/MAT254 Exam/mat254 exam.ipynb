{
 "cells": [
  {
   "cell_type": "code",
   "execution_count": 1,
   "metadata": {},
   "outputs": [],
   "source": [
    "import numpy as np\n",
    "import scipy.sparse as sps\n",
    "import sympy\n",
    "\n",
    "import porepy as pp\n",
    "\n",
    "# For grid convergence\n",
    "import matplotlib.pyplot as plt\n",
    "from porepy.geometry.geometry_property_checks import is_ccw_polyline\n",
    "from porepy.geometry.geometry_property_checks import is_ccw_polygon\n",
    "from porepy.geometry.geometry_property_checks import point_in_polygon"
   ]
  },
  {
   "cell_type": "code",
   "execution_count": 37,
   "metadata": {},
   "outputs": [],
   "source": [
    "def make_points_ccw(p, tol=1e-5):\n",
    "    \"\"\"\n",
    "    Return the points sorted in ccw order.\n",
    "    \n",
    "    Sort points in 2D, by ccw order. Not tested for non-convex point sets.\n",
    "    \n",
    "    Parameters:\n",
    "        p (np.ndarray, 2 x n): Points to be sorted.\n",
    "    \n",
    "    Returns:\n",
    "        np.ndarray, ccw sorted list of points.\n",
    "        \n",
    "    Steps of algorithm:\n",
    "    Let poly = p.copy()\n",
    "    \n",
    "    CASE I: 3 points provided.\n",
    "    1. Check if points are collinear.\n",
    "        - If True: Raise ValueError.\n",
    "    2. Run is_ccw_polyline(poly) \n",
    "        - If True: Return poly\n",
    "        - Otherwise: Return poly.copy()[:, ::-1]\n",
    "        \n",
    "    CASE II: 4 points provided.\n",
    "    1. Name the points A,B,C,D.\n",
    "    2. Consider two points, e.g. AB.\n",
    "    3. Check if any of C and D is collinear to AB.\n",
    "        a. If any:\n",
    "            - Raise ValueError\n",
    "    3. Check that C and D is ccw relative to AB\n",
    "        a. If both cw: \n",
    "            - Continue with XY = BA.\n",
    "        b. If one cw and one ccw:\n",
    "            - Continue with XY = AC (or AD, it doesn't matter)\n",
    "        c. If both ccw: \n",
    "            - Continue with XY = AB\n",
    "    4. Name the other two points Z, W.\n",
    "    5. Run is_ccw_polygon on XYZW and XYWZ.\n",
    "        a. Return the case which is True.\n",
    "        \n",
    "    CASE III: Number of points provided > 4.\n",
    "    1. Raise NotYetImplementedError.\n",
    "    \n",
    "    \"\"\"\n",
    "    \n",
    "    num_p = p.shape[1]\n",
    "    poly = p.copy()\n",
    "    \n",
    "    assert(num_p > 2) # Need to provide at least 3 points.\n",
    "    \n",
    "    # CASE I:\n",
    "    if num_p == 3:\n",
    "        A,B,C = poly.T\n",
    "        if np.abs(np.cross(C-A,B-A)) < tol:\n",
    "            raise ValueError(\"Points are collinear.\")\n",
    "        \n",
    "        if is_ccw_polyline(A,B,C,tol=tol):\n",
    "            return poly\n",
    "        else:\n",
    "            return poly.copy()[:, ::-1]\n",
    "    \n",
    "    # CASE II:\n",
    "    elif num_p == 4:\n",
    "        A,B,C,D = poly.T\n",
    "        collC = np.abs(np.cross(C-A,B-A)) < tol\n",
    "        collD = np.abs(np.cross(D-A,B-A)) < tol\n",
    "        if collC or collD:\n",
    "            raise ValueError(\"Some triples of points are collinear.\")\n",
    "        \n",
    "        orientations = is_ccw_polyline(A,B,np.array((C,D)).T)\n",
    "        if np.all(np.logical_not(orientations)):  # Both other pts are cw.\n",
    "            A,B = B,A\n",
    "        elif np.any(np.logical_not(orientations)): # Exactly one pt is cw.\n",
    "            B,C=C,B\n",
    "        \n",
    "        # Either ABCD or ABDC is either cw or ccw.\n",
    "        arr1 = np.array((A,B,C,D)).T\n",
    "        arr2 = np.array((A,B,D,C)).T\n",
    "        if is_ccw_polygon(arr1):\n",
    "            return arr1\n",
    "        elif is_ccw_polygon(arr1[:, ::-1]):\n",
    "            return arr1[:, ::-1]\n",
    "        elif is_ccw_polygon(arr2):\n",
    "            return arr2\n",
    "        elif is_ccw_polygon(arr2[:, ::-1]):\n",
    "            return arr2[:, ::-1]\n",
    "        else:\n",
    "            raise Error(\"An unexpected error occured.\")\n",
    "        \n",
    "    \n",
    "    elif num_p > 4:\n",
    "        raise NotImplemented(\"Not implemented for larger polygons.\")\n",
    "\n",
    "        \n",
    "def identify_overlap(gc, gf):\n",
    "    \"\"\"\n",
    "    Method to find overlapping cells in two grids over the same domain (2D).\n",
    "    \n",
    "    Parameters:\n",
    "    gc (porepy.Grid): The coarse grid with Nc number of cells\n",
    "    gf (porepy.Grid): The fine grid with Nf number of cells\n",
    "    \n",
    "    Returns:\n",
    "    Nf x Nc sparse matrix: If entry (i,j)  contains 1, then cell i in the fine grid \n",
    "                           is contained in cell j in the coarse grid.\n",
    "                            \n",
    "    \"\"\"\n",
    "    \n",
    "    # cell_nodes is a num_nodes x num_cells sparse column oriented matrix. (sps.csc_matrix).\n",
    "    ccell_nodes = gc.cell_nodes()\n",
    "    cnnz = ccell_nodes.nnz\n",
    "    slices = zip(ccell_nodes.indptr[:-1], ccell_nodes.indptr[1:])\n",
    "    \n",
    "    # Create sps.csc_matrix mapping coarse cells to fine cell centers.\n",
    "    indptr = [0]\n",
    "    indices = []\n",
    "    \n",
    "    for st, nd in slices:  # Loop through every cell.\n",
    "        nodes = ccell_nodes.indices[st:nd]\n",
    "        node_coords = np.array(gc.nodes[:,nodes][0:2])\n",
    "        poly = make_points_ccw(node_coords)\n",
    "        inside = point_in_polygon(poly, gf.cell_centers)#, tol=1e-5, default=True)\n",
    "        inside_id = np.array([i for i, x in enumerate(inside) if x])  # Location of the (fine) nodes inside the coarse cell.\n",
    "        \n",
    "        indptr.extend([indptr[-1]+len(inside_id)])  # Update index pointer\n",
    "        indices.extend(inside_id)  # Update indices of fine cells for the current coarse cell.\n",
    "    \n",
    "    data = np.ones(len(indices))\n",
    "    \n",
    "    ccell_fcell = sps.csc_matrix((data, indices, indptr))\n",
    "    return ccell_fcell\n",
    "\n",
    "\n",
    "def grid_convergence(gl,pl,plotting=False):\n",
    "    \"\"\" Compute grid convergence of a set of solutions.\n",
    "    \n",
    "    Parameters\n",
    "    gl (list of pp.Grid): List of N grids (with pre-computed geometries).\n",
    "    pl (list of np.ndarray): List N of solution vectors.\n",
    "    \n",
    "    Returns\n",
    "    np.ndarray (N-1,): List of errors relative to reference solution.\n",
    "    float: Slope of the two finest solutions.\n",
    "    \n",
    "    Note: Each grid and solution vector should correspond by index in \n",
    "        each list. Initially, g and p should be sorted from coarsest to\n",
    "        finest.\n",
    "\n",
    "    \"\"\"\n",
    "    N = np.zeros(len(pl))\n",
    "    for i in range(len(N)):\n",
    "        N[i] = len(pl[i])\n",
    "    for i in range(len(N)):\n",
    "        assert(gl[i].num_cells == len(pl[i]))\n",
    "    for i in range(1,len(N)):\n",
    "        assert (len(pl[i]) > len(pl[i-1]))\n",
    "    \n",
    "    errors = np.ones(len(N)-1)\n",
    "    \n",
    "    errors2 = np.ones(len(N)-1)\n",
    "    errors3 = np.ones(len(N)-1)\n",
    "    \n",
    "    sol = [] # Store all solutions\n",
    "    g_bucket = []  # Store all grids\n",
    "    \n",
    "    # Now, map all coarse solution to the fine grid.\n",
    "    mapped_sol = []\n",
    "    ref_grid_num_cells = len(pl[-1])\n",
    "    g_ref = gl[-1]\n",
    "    ref_sol = pl[-1]\n",
    "    for i in range(len(N)-1): \n",
    "        arr = np.zeros(ref_grid_num_cells)\n",
    "        g = gl[i]\n",
    "        p = pl[i]\n",
    "        \n",
    "        mapping = identify_overlap(gc=g, gf=g_ref)\n",
    "        slices = zip(mapping.indptr[:-1], mapping.indptr[1:])\n",
    "        for j, stnd in enumerate(slices):\n",
    "            st,nd=stnd\n",
    "            nodes = mapping.indices[st:nd]\n",
    "            arr[nodes] = p[j]\n",
    "            \n",
    "        mapped_sol.append(arr)\n",
    "        errors[i] = pp.error.norm_L2(g_ref,arr-ref_sol)\n",
    "        errors2[i] = pp.error.error_L2(g_ref,arr, ref_sol, relative=True)\n",
    "        errors3[i] = pp.error.error_L2(g_ref,arr, ref_sol, relative=False)\n",
    "    print(\"Relative errors:\", errors2)\n",
    "    print(\"Absolute errors:\", errors3)\n",
    "    \n",
    "    # N[-3] over N[-2] because we want to use h=1/N\n",
    "    # for slope estimation.\n",
    "    h = 1/np.sqrt(N[:-1])\n",
    "    slope = np.log(errors2[-1] / errors2[-2]) / np.log(h[-1] / h[-2])\n",
    "    slope = np.abs(slope)\n",
    "    slopes = np.ones(len(h)-1)\n",
    "    for i in range(len(h)-1):\n",
    "        slopes[i] = np.log(errors[i+1] / errors[i]) / np.log(h[i+1] / h[i])\n",
    "        \n",
    "    \n",
    "    # Plot h=1/N along x-axis\n",
    "    if plotting:\n",
    "        plt.loglog(h, errors)\n",
    "        plt.title(f\"Slope: {slope}\")\n",
    "        plt.show()\n",
    "    \n",
    "    return errors, slope, slopes"
   ]
  },
  {
   "cell_type": "code",
   "execution_count": 44,
   "metadata": {},
   "outputs": [],
   "source": [
    "class Flow:\n",
    "    \n",
    "    def __init__(self):\n",
    "        \"\"\" Assemble the flow problem\n",
    "        \n",
    "        Attributes:\n",
    "        tol (float): Tolerance for various calculations\n",
    "        \n",
    "        \"\"\"\n",
    "        self.tol = 1e-10\n",
    "        \n",
    "        # The following attributes will be assigned\n",
    "        # in the process before solving the flow problem:\n",
    "        self.g = None\n",
    "        self.N = None\n",
    "        self.physdims = None\n",
    "        self.data = None\n",
    "        self.solver = None\n",
    "        \n",
    "    def create_grid(self, N):\n",
    "        \"\"\" Create the domain\n",
    "        \n",
    "        The following attributes are assigned to self:\n",
    "            N (int): Number of cells in each direction\n",
    "            physdims (np.array): Dimensions of domain\n",
    "            g (pp.Grid): The grid\n",
    "        \"\"\"\n",
    "        self.N = N\n",
    "        self.physdims = np.array([1,1])\n",
    "        n = [N, N]\n",
    "        g = pp.CartGrid(n, self.physdims)\n",
    "        g.compute_geometry()\n",
    "        \n",
    "        self.g = g\n",
    "    \n",
    "    def perturb_grid(self, pert):\n",
    "        \"\"\" Perturb the grid\"\"\"\n",
    "        g = self.g\n",
    "        tol = self.tol\n",
    "        physdims = self.physdims\n",
    "        east = np.ravel(np.argwhere(g.nodes[0] > physdims[0] - tol))\n",
    "        west = np.ravel(np.argwhere(g.nodes[0] < tol))\n",
    "        north = np.ravel(np.argwhere(g.nodes[1] > physdims[1] - tol))\n",
    "        south = np.ravel(np.argwhere(g.nodes[1] < tol))\n",
    "        \n",
    "        # Don't move boundary nodes\n",
    "        move = np.ones(g.num_nodes)\n",
    "        move[north] = 0\n",
    "        move[south] = 0\n",
    "        move[west] = 0\n",
    "        move[east] = 0\n",
    "        \n",
    "        dx = 1/self.N\n",
    "        rand = np.vstack((np.random.rand(g.dim, g.num_nodes), np.repeat(0., g.num_nodes)))\n",
    "        g.nodes += pert * dx * (rand - 0.5)*move\n",
    "        if g.dim == 2:\n",
    "            g.nodes[2, :] = 0\n",
    "        g.compute_geometry()\n",
    "        \n",
    "    def boundary_conditions(self):\n",
    "        \"\"\" Set boundary conditons.\n",
    "        \n",
    "        Left face dirichlet with value 1\n",
    "        Right face dirichlet with value 0\n",
    "        Top and bottom face neumann with value 0.\n",
    "        \"\"\"\n",
    "        tol = self.tol\n",
    "        g = self.g\n",
    "        \n",
    "        b_faces = g.tags['domain_boundary_faces'].nonzero()[0]\n",
    "        labels = np.array(['neu']*b_faces.size)\n",
    "        \n",
    "        b_face_centers = g.face_centers[:, b_faces]\n",
    "        b_inflow = b_face_centers[0, :] < tol\n",
    "        b_outflow = b_face_centers[0, :] > self.physdims[0] - tol\n",
    "\n",
    "        labels[np.logical_or(b_inflow, b_outflow)] = \"dir\"\n",
    "        \n",
    "        bc = pp.BoundaryCondition(g, b_faces, labels)\n",
    "        \n",
    "        bc_val = np.zeros(g.num_faces)\n",
    "        bc_val[b_faces[b_inflow]] = 1\n",
    "        \n",
    "        return bc, bc_val\n",
    "    \n",
    "    def source(self, g):\n",
    "        \"\"\" Set source term\"\"\"\n",
    "        return np.zeros(g.num_cells)\n",
    "    \n",
    "    def perm(self, g):\n",
    "        \"\"\" Set permeability\"\"\"\n",
    "        kxx = np.ones(g.num_cells)\n",
    "        return pp.SecondOrderTensor(kxx)\n",
    "        \n",
    "    \n",
    "    def set_parameters(self):\n",
    "        \"\"\" Set the parameters for the domain.\"\"\"\n",
    "        g = self.g\n",
    "        bc, bc_val = self.boundary_conditions()\n",
    "        source = self.source(g)\n",
    "        perm = self.perm(g)\n",
    "        \n",
    "        specified_parameters = {'second_order_tensor': perm,\n",
    "                                 'source': source,\n",
    "                                 'bc': bc,\n",
    "                                 'bc_values': bc_val}\n",
    "        \n",
    "        data = pp.initialize_default_data(g, {}, \"flow\", specified_parameters)\n",
    "        self.data = data\n",
    "    \n",
    "    def discretize(self, method):\n",
    "        \"\"\" Discretize the system.\"\"\"\n",
    "        \n",
    "        if method == 'TPFA':\n",
    "            self.solver = pp.Tpfa(\"flow\")\n",
    "        elif method == 'MPFA':\n",
    "            self.solver = pp.Mpfa(\"flow\")\n",
    "        \n",
    "        self.solver.discretize(self.g, self.data)\n",
    "        \n",
    "        \n",
    "    def prepare_simulation(self, N, perturb, method):\n",
    "        \"\"\" Run the methods needed to do a simulation\n",
    "        \n",
    "        Parameters:\n",
    "        N (int): Cells in each dimension\n",
    "        pert (float): Perturbation amount. 0 for no pertubation\n",
    "        method (str): Currently implemented 'TPFA' and 'MPFA'.\n",
    "        \"\"\"\n",
    "        \n",
    "        # Create grid\n",
    "        self.create_grid(N)\n",
    "        if perturb:\n",
    "            self.perturb_grid(perturb)\n",
    "        \n",
    "        # Set parameters\n",
    "        self.set_parameters()\n",
    "        \n",
    "        # Discretize\n",
    "        self.discretize(method)\n",
    "        \n",
    "    def solve(self):\n",
    "        \"\"\" Solve the problem.\"\"\"\n",
    "        A, b = self.solver.assemble_matrix_rhs(self.g, self.data)\n",
    "        \n",
    "        # Source term:\n",
    "        src = pp.ScalarSource('flow')\n",
    "        src.discretize(self.g, self.data)\n",
    "        b1 = src.assemble_rhs(self.g, self.data)\n",
    "        \n",
    "        x = sps.linalg.spsolve(A, b+b1)\n",
    "        return x\n",
    "    \n",
    "    \n",
    "def run_method(N, perturb, method):\n",
    "    \"\"\" Run method\n",
    "    \n",
    "    Parameters:\n",
    "    N (int): grid size\n",
    "    perturb (float): Amount of grid pertubation\n",
    "    method (str): 'TPFA' or 'MPFA'\n",
    "    \"\"\"\n",
    "    \n",
    "    # Setup\n",
    "    setup = Flow()\n",
    "    setup.prepare_simulation(N, perturb, method)\n",
    "    \n",
    "    p = setup.solve()\n",
    "    \n",
    "    return p, setup.g\n",
    "    \n",
    "    \n",
    "\n",
    "\n",
    "def run_many(grid_sizes, perturb, method):\n",
    "    \"\"\" Run many iterations. Return solutions and grids.\n",
    "    \n",
    "    Parameters:\n",
    "    grid_sizes (list): List of integers denoting grid size\n",
    "    perturb (float): Amount of grid pertubation\n",
    "    method (str): 'TPFA' or 'MPFA'\n",
    "    \"\"\"\n",
    "    N = grid_sizes\n",
    "    pl = []\n",
    "    gl = []\n",
    "    for i in range(len(N)):\n",
    "        Ni = N[i]\n",
    "        p, g = run_method(Ni, perturb, method)\n",
    "        pl.append(p)\n",
    "        gl.append(g.copy())\n",
    "    \n",
    "    return pl, gl\n",
    "        \n",
    "\n",
    "def error_plot(pl, gl):\n",
    "    \"\"\" Plot errors and the finest grid.\"\"\"\n",
    "    errors, slope, slopes = grid_convergence(gl,pl,plotting=True)\n",
    "    print(\"Error vector:\", errors)\n",
    "    \n",
    "    #pp.plot_grid(gl[-1], pl[-1], figsize=(15,12))\n",
    "    \n",
    "    return errors, slope, slopes\n",
    "    "
   ]
  },
  {
   "cell_type": "markdown",
   "metadata": {},
   "source": [
    "# Use exact solution\n",
    "Create a function which uses an exact solution as reference value"
   ]
  },
  {
   "cell_type": "code",
   "execution_count": null,
   "metadata": {},
   "outputs": [],
   "source": [
    "class FlowEx(Flow):\n",
    "    \"\"\" Example class\"\"\"\n",
    "    \n",
    "\n",
    "    def exact_soln(g):\n",
    "        # Analytical solution\n",
    "        \n",
    "        xc = g.cell_centers\n",
    "        xf = g.face_centers\n",
    "        \n",
    "        x, y = sympy.symbols('x y')\n",
    "        p = x**2*y**3 #linear pressure should give 0 error\n",
    "        pi = sympy.lambdify((x, y), p, 'numpy')\n",
    "        dpx = sympy.diff(p, x)\n",
    "        dpy = sympy.diff(p, y)\n",
    "        dpxi = sympy.lambdify((x, y), dpx, 'numpy')\n",
    "        dpyi = sympy.lambdify((x, y), dpy, 'numpy')\n",
    "        rhs = -sympy.diff(dpx, x) - sympy.diff(dpy, y)\n",
    "        self.fi = sympy.lambdify((x, y), rhs, 'numpy') # RHS term\n",
    "        \n",
    "        pc_ex = pi(xc[0], xc[1])\n",
    "        pf_ex = pi(xf[0], xf[1])\n",
    "        flux_ex = -(g.face_normals[0,:] * dpxi(xf[0], xf[1]) + g.face_normals[1,:]\n",
    "     \n",
    "    def source(self, g):\n",
    "        \"\"\" Overwrite source term\"\"\"\n",
    "        fc = self.fi(xc[0, :], xc[1, :])*g.cell_volumes\n",
    "        return np.zeros(g.num_cells)\n",
    "  "
   ]
  },
  {
   "cell_type": "markdown",
   "metadata": {},
   "source": [
    "# Grid convergence\n"
   ]
  },
  {
   "cell_type": "code",
   "execution_count": 45,
   "metadata": {
    "scrolled": false
   },
   "outputs": [
    {
     "name": "stdout",
     "output_type": "stream",
     "text": [
      "Relative errors: [0.12475943 0.06201169 0.03025861 0.01353206]\n",
      "Absolute errors: [0.07202769 0.03580137 0.01746928 0.0078125 ]\n"
     ]
    },
    {
     "data": {
      "image/png": "[encoded data removed]",
      "text/plain": [
       "<Figure size 432x288 with 1 Axes>"
      ]
     },
     "metadata": {
      "needs_background": "light"
     },
     "output_type": "display_data"
    },
    {
     "name": "stdout",
     "output_type": "stream",
     "text": [
      "Error vector: [0.07202769 0.03580137 0.01746928 0.0078125 ]\n"
     ]
    }
   ],
   "source": [
    "grid_sizes = [4, 8, 16, 32, 64]\n",
    "perturb = 0\n",
    "method = 'MPFA'\n",
    "pl, gl = run_many(grid_sizes, perturb, method)\n",
    "errors, slope, slopes = error_plot(pl, gl)"
   ]
  },
  {
   "cell_type": "code",
   "execution_count": 54,
   "metadata": {},
   "outputs": [
    {
     "data": {
      "text/plain": [
       "-2.0"
      ]
     },
     "execution_count": 54,
     "metadata": {},
     "output_type": "execute_result"
    }
   ],
   "source": [
    "np.log2(4/16)"
   ]
  },
  {
   "cell_type": "code",
   "execution_count": 49,
   "metadata": {
    "scrolled": true
   },
   "outputs": [
    {
     "data": {
      "text/plain": [
       "-0.8047189562170499"
      ]
     },
     "execution_count": 49,
     "metadata": {},
     "output_type": "execute_result"
    }
   ],
   "source": [
    "El = np.log(errors[-1] / errors[-2])\n",
    "El"
   ]
  },
  {
   "cell_type": "code",
   "execution_count": 36,
   "metadata": {},
   "outputs": [
    {
     "data": {
      "text/plain": [
       "-0.6931471805599453"
      ]
     },
     "execution_count": 36,
     "metadata": {},
     "output_type": "execute_result"
    }
   ],
   "source": [
    "h=1/np.array(grid_sizes)[:-1]\n",
    "hl = np.log(h[-1]/h[-2])\n",
    "hl"
   ]
  },
  {
   "cell_type": "code",
   "execution_count": 8,
   "metadata": {},
   "outputs": [
    {
     "data": {
      "text/plain": [
       "1.1609640474436809"
      ]
     },
     "execution_count": 8,
     "metadata": {},
     "output_type": "execute_result"
    }
   ],
   "source": [
    "El/hl"
   ]
  },
  {
   "cell_type": "markdown",
   "metadata": {},
   "source": [
    "# Some sample runs"
   ]
  },
  {
   "cell_type": "code",
   "execution_count": 9,
   "metadata": {
    "scrolled": false
   },
   "outputs": [],
   "source": [
    "N=5\n",
    "perturb=0\n",
    "method='TPFA'\n",
    "p, g = run_method(N,perturb,method)"
   ]
  },
  {
   "cell_type": "code",
   "execution_count": 10,
   "metadata": {},
   "outputs": [
    {
     "name": "stderr",
     "output_type": "stream",
     "text": [
      "/home/haakon/anaconda3/lib/python3.7/site-packages/mpl_toolkits/mplot3d/axes3d.py:753: UserWarning: Attempting to set identical bottom==top results\n",
      "in singular transformations; automatically expanding.\n",
      "bottom=0.0, top=0.0\n",
      "  'bottom=%s, top=%s') % (bottom, top))\n"
     ]
    },
    {
     "data": {
      "image/png": "[encoded data removed]",
      "text/plain": [
       "<Figure size 1080x864 with 2 Axes>"
      ]
     },
     "metadata": {
      "needs_background": "light"
     },
     "output_type": "display_data"
    }
   ],
   "source": [
    "pp.plot_grid(g, p, figsize=(15,12))"
   ]
  },
  {
   "cell_type": "code",
   "execution_count": 11,
   "metadata": {},
   "outputs": [
    {
     "name": "stderr",
     "output_type": "stream",
     "text": [
      "/home/haakon/anaconda3/lib/python3.7/site-packages/mpl_toolkits/mplot3d/axes3d.py:753: UserWarning: Attempting to set identical bottom==top results\n",
      "in singular transformations; automatically expanding.\n",
      "bottom=0.0, top=0.0\n",
      "  'bottom=%s, top=%s') % (bottom, top))\n"
     ]
    },
    {
     "data": {
      "image/png": "[encoded data removed]",
      "text/plain": [
       "<Figure size 1080x864 with 2 Axes>"
      ]
     },
     "metadata": {
      "needs_background": "light"
     },
     "output_type": "display_data"
    }
   ],
   "source": [
    "N=5\n",
    "perturb=0\n",
    "method='MPFA'\n",
    "p, g = run_method(N,perturb,method)\n",
    "pp.plot_grid(g, p, figsize=(15,12))"
   ]
  },
  {
   "cell_type": "code",
   "execution_count": 12,
   "metadata": {},
   "outputs": [
    {
     "data": {
      "image/png": "[encoded data removed]",
      "text/plain": [
       "<Figure size 1080x864 with 2 Axes>"
      ]
     },
     "metadata": {
      "needs_background": "light"
     },
     "output_type": "display_data"
    }
   ],
   "source": [
    "N=5\n",
    "perturb=0.3\n",
    "method='TPFA'\n",
    "p, g = run_method(N,perturb,method)\n",
    "pp.plot_grid(g, p, figsize=(15,12))"
   ]
  },
  {
   "cell_type": "code",
   "execution_count": null,
   "metadata": {},
   "outputs": [],
   "source": []
  }
 ],
 "metadata": {
  "kernelspec": {
   "display_name": "Python 3",
   "language": "python",
   "name": "python3"
  },
  "language_info": {
   "codemirror_mode": {
    "name": "ipython",
    "version": 3
   },
   "file_extension": ".py",
   "mimetype": "text/x-python",
   "name": "python",
   "nbconvert_exporter": "python",
   "pygments_lexer": "ipython3",
   "version": "3.7.3"
  }
 },
 "nbformat": 4,
 "nbformat_minor": 2
}
