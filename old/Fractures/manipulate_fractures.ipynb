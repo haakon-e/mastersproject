{
 "cells": [
  {
   "cell_type": "markdown",
   "metadata": {},
   "source": [
    "# Overview\n",
    "This notebook provides some functions to easily create a grid with a fracture, then manipulate the parameters that influence the solutions.\n",
    "\n",
    "Some methods here are borrowed from:\n",
    "`tutorials > parameter_assignment_assembler_setup.ipynb`."
   ]
  },
  {
   "cell_type": "code",
   "execution_count": 1,
   "metadata": {},
   "outputs": [],
   "source": [
    "import numpy as np\n",
    "import scipy.sparse as sps\n",
    "import porepy as pp"
   ]
  },
  {
   "cell_type": "code",
   "execution_count": null,
   "metadata": {},
   "outputs": [],
   "source": [
    "def make_grid(N=[2, 2], physdims=[1,1]):\n",
    "    # Define a grid bucket containing two grids: one for the  1d fracture and one for the  2d matrix.\n",
    "    fracture = np.array([[0, 1], [0.5, 0.5]])\n",
    "    gb = pp.meshing.cart_grid([fracture], N, physdims56)\n",
    "    return gb"
   ]
  }
 ],
 "metadata": {
  "kernelspec": {
   "display_name": "Python 3",
   "language": "python",
   "name": "python3"
  },
  "language_info": {
   "codemirror_mode": {
    "name": "ipython",
    "version": 3
   },
   "file_extension": ".py",
   "mimetype": "text/x-python",
   "name": "python",
   "nbconvert_exporter": "python",
   "pygments_lexer": "ipython3",
   "version": "3.7.3"
  }
 },
 "nbformat": 4,
 "nbformat_minor": 2
}
