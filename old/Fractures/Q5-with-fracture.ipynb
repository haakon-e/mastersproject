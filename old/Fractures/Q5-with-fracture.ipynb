{
 "cells": [
  {
   "cell_type": "markdown",
   "metadata": {},
   "source": [
    "# Overview\n",
    "This notebook will construct the quart-five problem, then insert a (real) fracture in the middle."
   ]
  },
  {
   "cell_type": "code",
   "execution_count": 1,
   "metadata": {},
   "outputs": [],
   "source": [
    "import numpy as np\n",
    "import scipy.sparse as sps\n",
    "import porepy as pp"
   ]
  },
  {
   "cell_type": "code",
   "execution_count": 2,
   "metadata": {},
   "outputs": [],
   "source": [
    "# Create grid\n",
    "Nx=Ny=40\n",
    "phys_dims=[1,1]\n",
    "\n",
    "fracture = np.array([[0.2, 0.8], [0.5, 0.5]])\n",
    "gb = pp.meshing.cart_grid([fracture], [Nx, Ny], physdims=phys_dims)\n",
    "\n",
    "data_key=\"flow\""
   ]
  },
  {
   "cell_type": "code",
   "execution_count": 3,
   "metadata": {},
   "outputs": [],
   "source": [
    "# Matrix bdy condition\n",
    "inflow=1\n",
    "outflux=-1\n",
    "\n",
    "# Thickness of fracture\n",
    "aperture = 1e-3\n",
    "fracture_perm = 1e5\n",
    "\n",
    "for g, d in gb:\n",
    "    # The concept of specific volumes accounts for the thickness\n",
    "    # of the fracture, which is collapsed in the mixed-dimensional\n",
    "    # model.\n",
    "    specific_volumes = np.power(aperture, gb.dim_max()-g.dim)\n",
    "    # Permeability\n",
    "    k = np.ones(g.num_cells) * specific_volumes\n",
    "    if g.dim < gb.dim_max():\n",
    "        k *= fracture_perm\n",
    "    perm = pp.SecondOrderTensor(k)                     \n",
    "\n",
    "    # Unitary scalar source already integrated in each cell\n",
    "    #f = 1e-2* g.cell_volumes * specific_volumes \n",
    "    f = np.zeros(g.num_cells)\n",
    "\n",
    "    # Boundary conditions\n",
    "    b_faces = g.tags['domain_boundary_faces'].nonzero()[0]\n",
    "    bc_val = np.zeros(g.num_faces)\n",
    "    \n",
    "    # Assign boundary conditions to matrix\n",
    "    if g.dim == gb.dim_max():\n",
    "        \n",
    "        labels = np.array(['neu']*b_faces.size)\n",
    "        \n",
    "        # Coordinates and index of face centers\n",
    "        coord_faces = np.vstack((g.face_centers[0, b_faces], g.face_centers[1, b_faces], np.array(range(b_faces.size))))\n",
    "\n",
    "        # Find west face closest to (0,0)\n",
    "        left_face = coord_faces[:,coord_faces[0]==0]\n",
    "        ind_min_west = int(left_face[2,np.argmin(left_face[1])])\n",
    "        labels[ind_min_west] = 'dir'\n",
    "\n",
    "        # Find south face closest to (0,0)\n",
    "        bot_face = coord_faces[:,coord_faces[1]==0]\n",
    "        ind_min_south = int(bot_face[2,np.argmin(bot_face[0])])\n",
    "        labels[ind_min_south] = 'dir'\n",
    "        \n",
    "        # Create BoundaryCondition object\n",
    "        bc = pp.BoundaryCondition(g, b_faces, labels)\n",
    "\n",
    "        # Adjust Dirichlet value\n",
    "        bc_val[[ind_min_west, ind_min_south]] = inflow\n",
    "        \n",
    "        # Production well upper-right corner\n",
    "        f[-1] = outflux\n",
    "    else:\n",
    "        bc = pp.BoundaryCondition(g, b_faces, ['dir']*b_faces.size)\n",
    "        \n",
    "\n",
    "    parameters = {\"second_order_tensor\": perm, \"source\": f, \"bc\": bc, \"bc_values\": bc_val}\n",
    "    pp.initialize_data(g, d, data_key, parameters)\n",
    "\n",
    "for e, d in gb.edges():\n",
    "        gl, _ = gb.nodes_of_edge(e)\n",
    "        mg = d[\"mortar_grid\"]\n",
    "        # Division through aperture/2 may be thought of as taking the gradient, i.e.\n",
    "        # dividing by the distance from the matrix to the center of the fracture.\n",
    "        kn = fracture_perm / (aperture/2)\n",
    "        pp.initialize_data(mg, d, data_key, {\"normal_diffusivity\": kn})"
   ]
  },
  {
   "cell_type": "code",
   "execution_count": 4,
   "metadata": {},
   "outputs": [],
   "source": [
    "flow_discretization = pp.Tpfa(data_key)\n",
    "source_discretization = pp.ScalarSource(data_key)\n",
    "for g, d in gb:\n",
    "        d[pp.PRIMARY_VARIABLES] = {\"pressure\": {\"cells\": 1}}\n",
    "        d[pp.DISCRETIZATION] = {\"pressure\": {\"diffusive\": flow_discretization,\n",
    "                                             \"source\": source_discretization}}\n",
    "        \n",
    "flow_coupling_discretization = pp.RobinCoupling(data_key, flow_discretization)        \n",
    "for e, d in gb.edges():\n",
    "    g1, g2 = gb.nodes_of_edge(e)\n",
    "    d[pp.PRIMARY_VARIABLES] = {\"mortar_flux\": {\"cells\": 1}}\n",
    "    d[pp.COUPLING_DISCRETIZATION] = {\n",
    "        \"lambda\": {\n",
    "            g1: (\"pressure\", \"diffusive\"),\n",
    "            g2: (\"pressure\", \"diffusive\"),\n",
    "            e: (\"mortar_flux\", flow_coupling_discretization),\n",
    "        }\n",
    "    }"
   ]
  },
  {
   "cell_type": "code",
   "execution_count": 5,
   "metadata": {},
   "outputs": [],
   "source": [
    "assembler = pp.Assembler(gb)\n",
    "assembler.discretize()\n",
    "A, b = assembler.assemble_matrix_rhs()\n",
    "solution = sps.linalg.spsolve(A, b)\n",
    "assembler.distribute_variable(solution)"
   ]
  },
  {
   "cell_type": "code",
   "execution_count": 9,
   "metadata": {},
   "outputs": [
    {
     "data": {
      "text/plain": [
       "{'node_number': 0,\n",
       " 'discretization_matrices': {'flow': {'flux': <3304x1600 sparse matrix of type '<class 'numpy.float64'>'\n",
       "   \twith 6400 stored elements in Compressed Sparse Column format>,\n",
       "   'bound_flux': <3304x3304 sparse matrix of type '<class 'numpy.float64'>'\n",
       "   \twith 208 stored elements in Compressed Sparse Column format>,\n",
       "   'bound_pressure_cell': <3304x1600 sparse matrix of type '<class 'numpy.float64'>'\n",
       "   \twith 6400 stored elements in COOrdinate format>,\n",
       "   'bound_pressure_face': <3304x3304 sparse matrix of type '<class 'numpy.float64'>'\n",
       "   \twith 3304 stored elements (1 diagonals) in DIAgonal format>,\n",
       "   'source': <1600x1600 sparse matrix of type '<class 'numpy.float64'>'\n",
       "   \twith 0 stored elements in Compressed Sparse Column format>,\n",
       "   'bound_source': <1600x1600 sparse matrix of type '<class 'numpy.float64'>'\n",
       "   \twith 1600 stored elements in Compressed Sparse Column format>}},\n",
       " 'parameters': Data object for physical processes flow\n",
       " The keyword \"flow\" has the following parameters specified: second_order_tensor, source, bc, bc_values,\n",
       " 'primary_variables': {'pressure': {'cells': 1}},\n",
       " 'discretization': {'pressure': {'diffusive': <porepy.numerics.fv.tpfa.Tpfa at 0x7fecc96adef0>,\n",
       "   'source': <porepy.numerics.fv.source.ScalarSource at 0x7fecc96adeb8>}},\n",
       " 'state': {'pressure': array([ 0.25      , -0.24962982, -0.55123406, ..., -3.58511984,\n",
       "         -3.88672407, -4.38635389])}}"
      ]
     },
     "execution_count": 9,
     "metadata": {},
     "output_type": "execute_result"
    }
   ],
   "source": [
    "g = gb.grids_of_dimension(2)[0]\n",
    "data = gb.node_props(g)\n",
    "data"
   ]
  },
  {
   "cell_type": "code",
   "execution_count": 6,
   "metadata": {},
   "outputs": [
    {
     "data": {
      "image/png": "[encoded data removed]",
      "text/plain": [
       "<Figure size 1080x864 with 2 Axes>"
      ]
     },
     "metadata": {
      "needs_background": "light"
     },
     "output_type": "display_data"
    }
   ],
   "source": [
    "pp.plot_grid(gb, \"pressure\",figsize=(15, 12))"
   ]
  },
  {
   "cell_type": "code",
   "execution_count": null,
   "metadata": {},
   "outputs": [],
   "source": []
  }
 ],
 "metadata": {
  "kernelspec": {
   "display_name": "Python 3",
   "language": "python",
   "name": "python3"
  },
  "language_info": {
   "codemirror_mode": {
    "name": "ipython",
    "version": 3
   },
   "file_extension": ".py",
   "mimetype": "text/x-python",
   "name": "python",
   "nbconvert_exporter": "python",
   "pygments_lexer": "ipython3",
   "version": "3.7.3"
  }
 },
 "nbformat": 4,
 "nbformat_minor": 2
}
