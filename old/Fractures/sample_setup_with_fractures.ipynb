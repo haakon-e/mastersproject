{
 "cells": [
  {
   "cell_type": "markdown",
   "metadata": {},
   "source": [
    "# Fractures\n",
    "\n",
    "This notebook is intended to experiment with fractures in a simple domain with simple boundary conditions.\n",
    "\n",
    "Some central questions to be asked:\n",
    "* How are solutions affected by high `aperture * fracture_perm` relative to rock permeability?\n",
    "* What about low?\n",
    "* What is the relationship between fracture aperature and fracture permeability? Look up `cubic law`.\n",
    "\n",
    "\n",
    "## Basic setup\n",
    "\n",
    "This notebook will consider a 2D domain with physical dimensions of $[0,1]^2$. As such, fractures are 1D lines, and interesctions of fractures are 0D points.\n",
    "\n",
    "Let $\\Omega$ be a unit square with boundary $\\partial\\Omega$. Consider a partition of the boundary in two parts consisting of $\\partial\\Omega_d$, representing Dirichlet boundary, and $\\partial\\Omega_n$, representing a Neumann boundary. By convention, let $\\mathbf{n}$ be the outward unit vector normal to $\\partial\\Omega$.\n",
    "\n",
    "Single phase flow, in its primal formulation, can be written as\n",
    "$$-\\nabla \\cdot K \\nabla p = f$$\n",
    "with boundary conditions on $\\partial\\Omega_n$ and $\\partial\\Omega_d$:\n",
    "$$\\mathbf{u}\\cdot\\mathbf{n}=u_b, \\quad p = p_b$$\n",
    "Here, $f$ is a scalar source, $K$ is the permability tensor, $p_b$ is the pressure at the boundary (Dirichlet), and $u_b$ us the flux at the boundary (Neumann)."
   ]
  },
  {
   "cell_type": "markdown",
   "metadata": {},
   "source": [
    "## Import necessary modules\n",
    "Before we can start, we need the following modules:"
   ]
  },
  {
   "cell_type": "code",
   "execution_count": 1,
   "metadata": {},
   "outputs": [],
   "source": [
    "import numpy as np\n",
    "import scipy.sparse as sps\n",
    "import porepy as pp"
   ]
  },
  {
   "cell_type": "markdown",
   "metadata": {},
   "source": [
    "## Define the fractured grid\n",
    "Next, we define a $[0,1]^2$ grid with $20\\cdot20$ cells. In addition, a fracture located at $y=0.8$ parallel to the x-axis from $x=0.2$ to $x=0.8$ is defined.\n",
    "\n",
    "This setup is passed along to a method `cart_grid` (note, not the same as `pp.CartGrid`!) which generates the grid containing a meshed 2D region (rock domain) and a 1D line representing the fracture. The communication between the fracture and the rock domain is handled by interfaces. "
   ]
  },
  {
   "cell_type": "code",
   "execution_count": 2,
   "metadata": {},
   "outputs": [],
   "source": [
    "Nx = Ny = 20\n",
    "phys_dims = [1,1]\n",
    "fracture = np.array([[0.2, 0.8], [0.8, 0.8]])\n",
    "gb = pp.meshing.cart_grid([fracture], [Nx, Ny], physdims=phys_dims)\n",
    "\n",
    "data_key=\"flow\""
   ]
  },
  {
   "cell_type": "markdown",
   "metadata": {},
   "source": [
    "Next, define the permeability and boundary conditions of each grid in the grid bucket. In our case, we have one grid representing the rock domain and one representing the fracture."
   ]
  },
  {
   "cell_type": "code",
   "execution_count": 19,
   "metadata": {},
   "outputs": [],
   "source": [
    "# Thickness of fracture\n",
    "aperture = 1e-3\n",
    "fracture_perm = 1e-5\n",
    "\n",
    "for g, d in gb:\n",
    "    # The concept of specific volumes accounts for the thickness\n",
    "    # of the fracture, which is collapsed in the mixed-dimensional\n",
    "    # model.\n",
    "    specific_volumes = np.power(aperture, gb.dim_max()-g.dim)\n",
    "    # Permeability\n",
    "    k = np.ones(g.num_cells) * specific_volumes\n",
    "    if g.dim < gb.dim_max():\n",
    "        k *= fracture_perm\n",
    "    perm = pp.SecondOrderTensor(k)                     \n",
    "\n",
    "    # Unitary scalar source already integrated in each cell\n",
    "    f = 1e-2* g.cell_volumes * specific_volumes \n",
    "\n",
    "    # Boundary conditions\n",
    "    b_faces = g.tags['domain_boundary_faces'].nonzero()[0]\n",
    "    bc = pp.BoundaryCondition(g, b_faces, ['dir']*b_faces.size)\n",
    "    bc_val = np.zeros(g.num_faces)\n",
    "    bc_val[b_faces] = g.face_centers[1, b_faces]\n",
    "\n",
    "    parameters = {\"second_order_tensor\": perm, \"source\": f, \"bc\": bc, \"bc_values\": bc_val}\n",
    "    pp.initialize_data(g, d, data_key, parameters)\n",
    "\n",
    "for e, d in gb.edges():\n",
    "        gl, _ = gb.nodes_of_edge(e)\n",
    "        mg = d[\"mortar_grid\"]\n",
    "        # Division through aperture/2 may be thought of as taking the gradient, i.e.\n",
    "        # dividing by the distance from the matrix to the center of the fracture.\n",
    "        kn = fracture_perm / (aperture/2)\n",
    "        pp.initialize_data(mg, d, data_key, {\"normal_diffusivity\": kn})"
   ]
  },
  {
   "cell_type": "markdown",
   "metadata": {},
   "source": [
    "Let's make note of some features of the above code.\n",
    "\n",
    "`specific_volumes` is either equal to the fracture aperture if a 1D fracture is being considered, or is $1$ if the rock domain is considered. (If a 0D point is considered, `specific_volumes` will be the aperture squared).\n",
    "\n",
    "For fractures, the permeability tensor which initially is homogeneously 1, is multiplied by the `fracture_perm` only when a fracture is considered. This is similar for the source term $f$.\n",
    "\n",
    "To my understanding, a mortar grid is a \"virtual\" grid that is used to connect cells from higher dimensions to lower dimensions\n",
    "\n",
    "###### Boundary conditions\n",
    "All exterior faces are set to Dirichlet. The value corresponds to their y-coordinate value. So the top face will have 1, and the bottom 0.\n",
    "\n",
    "###### Fracture conditions\n",
    "The mortar grid cells are given a diffusivity value, which is a form of gradient of the fracture permeability.\n",
    "\n",
    "**Question**: Are the fracture (mortar) condition the same as \"boundary conditions\" for the fracture boundary interface?"
   ]
  },
  {
   "cell_type": "markdown",
   "metadata": {},
   "source": [
    "### Primary variables and discretization\n",
    "Next, primary variables are set and discretization for diffusive and source terms are assigned for all grid and for the coupling law on the edge."
   ]
  },
  {
   "cell_type": "code",
   "execution_count": 20,
   "metadata": {},
   "outputs": [],
   "source": [
    "flow_discretization = pp.Tpfa(data_key)\n",
    "source_discretization = pp.ScalarSource(data_key)\n",
    "for g, d in gb:\n",
    "        d[pp.PRIMARY_VARIABLES] = {\"pressure\": {\"cells\": 1}}\n",
    "        d[pp.DISCRETIZATION] = {\"pressure\": {\"diffusive\": flow_discretization,\n",
    "                                             \"source\": source_discretization}}\n",
    "        \n",
    "flow_coupling_discretization = pp.RobinCoupling(data_key, flow_discretization)        \n",
    "for e, d in gb.edges():\n",
    "    g1, g2 = gb.nodes_of_edge(e)\n",
    "    d[pp.PRIMARY_VARIABLES] = {\"mortar_flux\": {\"cells\": 1}}\n",
    "    d[pp.COUPLING_DISCRETIZATION] = {\n",
    "        \"lambda\": {\n",
    "            g1: (\"pressure\", \"diffusive\"),\n",
    "            g2: (\"pressure\", \"diffusive\"),\n",
    "            e: (\"mortar_flux\", flow_coupling_discretization),\n",
    "        }\n",
    "    }"
   ]
  },
  {
   "cell_type": "markdown",
   "metadata": {},
   "source": [
    "#### Let's break it down\n",
    "\n",
    "First, we choose to use the `tpfa` solver:\n",
    "```\n",
    "flow_discretization = pp.Tpfa(data_key)\n",
    "```\n",
    "(`data_key=\"flow\"`)\n",
    "\n",
    "Next, the source is discretized:\n",
    "```\n",
    "source_discretization = pp.ScalarSource(data_key)\n",
    "```\n",
    "\n",
    "Then, iterate through the GridBucket and assign primary variables as `{\"pressure\": {\"cells\": 1}}`.\n",
    "The primary variable above means that it has one degree of freedom per cell.\n",
    "\n",
    "**What does that mean??**\n",
    "\n",
    "Then assign discretization schemes for diffusive and source terms for the variable `pressure`:\n",
    "```\n",
    "d[pp.DISCRETIZATION] = {\"pressure\": {\"diffusive\": flow_discretization, \"source\": source_discretization}}\n",
    "```\n",
    "\n",
    "The line,\n",
    "```\n",
    "flow_coupling_discretization = pp.RobinCoupling(data_key, flow_discretization)\n",
    "```\n",
    "assigns Robin type coupling between the grids. This will give a resistance to flow over a fracture.\n",
    "\n",
    "**Question: What does the parameters mean?** (compare with i.e. `parameter_assignment_assembler_setup.ipynb`)\n",
    "\n",
    "Next, we loop over the edges of the GridBucket.\n",
    "First, one degree of freedom is given per cell to the variable `mortar_flux`, which is in the mortar grid.\n",
    "```\n",
    "d[pp.PRIMARY_VARIABLES] = {\"mortar_flux\": {\"cells\": 1}}\n",
    "``` \n",
    "\n",
    "Lastly, the coupling discretization connects mortar discretizations with variables and operators (methods, i.e. tpfa) on each neighboring grid.\n",
    "```\n",
    "d[pp.COUPLING_DISCRETIZATION] = {\n",
    "        \"lambda\": {\n",
    "            g1: (\"pressure\", \"diffusive\"),\n",
    "            g2: (\"pressure\", \"diffusive\"),\n",
    "            e: (\"mortar_flux\", flow_coupling_discretization),\n",
    "        }\n",
    "```\n",
    "---"
   ]
  },
  {
   "cell_type": "code",
   "execution_count": 21,
   "metadata": {},
   "outputs": [],
   "source": [
    "assembler = pp.Assembler(gb)\n",
    "assembler.discretize()\n",
    "A, b = assembler.assemble_matrix_rhs()\n",
    "solution = sps.linalg.spsolve(A, b)\n",
    "assembler.distribute_variable(solution)"
   ]
  },
  {
   "cell_type": "markdown",
   "metadata": {},
   "source": [
    "## Assembler\n",
    "The assembler handles discretization and assembly of matrices.\n",
    "\n",
    "The variable `solution` contains pressure in matrix and fracture, and fluxes between them."
   ]
  },
  {
   "cell_type": "code",
   "execution_count": 22,
   "metadata": {
    "scrolled": false
   },
   "outputs": [
    {
     "data": {
      "image/png": "[encoded data removed]",
      "text/plain": [
       "<Figure size 1080x864 with 2 Axes>"
      ]
     },
     "metadata": {
      "needs_background": "light"
     },
     "output_type": "display_data"
    }
   ],
   "source": [
    "pp.plot_grid(gb, \"pressure\",figsize=(15, 12))"
   ]
  },
  {
   "cell_type": "code",
   "execution_count": null,
   "metadata": {},
   "outputs": [],
   "source": []
  }
 ],
 "metadata": {
  "kernelspec": {
   "display_name": "Python 3",
   "language": "python",
   "name": "python3"
  },
  "language_info": {
   "codemirror_mode": {
    "name": "ipython",
    "version": 3
   },
   "file_extension": ".py",
   "mimetype": "text/x-python",
   "name": "python",
   "nbconvert_exporter": "python",
   "pygments_lexer": "ipython3",
   "version": "3.7.3"
  }
 },
 "nbformat": 4,
 "nbformat_minor": 2
}
