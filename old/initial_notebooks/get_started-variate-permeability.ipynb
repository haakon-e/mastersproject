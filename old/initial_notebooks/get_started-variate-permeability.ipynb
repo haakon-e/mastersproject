{
 "cells": [
  {
   "cell_type": "code",
   "execution_count": 1,
   "metadata": {},
   "outputs": [],
   "source": [
    "import numpy as np\n",
    "import scipy.sparse as sps\n",
    "import porepy as pp"
   ]
  },
  {
   "cell_type": "markdown",
   "metadata": {},
   "source": [
    "### Aim of notebook\n",
    "In this notebook, I will first try to rotate the entire setup by 90 degress."
   ]
  },
  {
   "cell_type": "markdown",
   "metadata": {},
   "source": [
    "## Define Grid "
   ]
  },
  {
   "cell_type": "code",
   "execution_count": 2,
   "metadata": {},
   "outputs": [],
   "source": [
    "Nx = Ny = 10\n",
    "g = pp.CartGrid([Nx,Ny], [1,1])\n",
    "g.compute_geometry()"
   ]
  },
  {
   "cell_type": "markdown",
   "metadata": {},
   "source": [
    "## Define permeability matrix"
   ]
  },
  {
   "cell_type": "code",
   "execution_count": 16,
   "metadata": {},
   "outputs": [],
   "source": [
    "Omega_1 = g.cell_centers[0, :] < 0.5\n",
    "\n",
    "# Let Omega_1 be region with y < 0.5\n",
    "#Omega_1 = g.cell_centers[1, :] < 0.5\n",
    "\n",
    "#Omega_1[g.cell_centers[0, :] < 0.1] = False\n",
    "#Omega_1[np.abs(g.cell_centers[0, :] - 0.7) < 0.1] = True\n",
    "\n",
    "kxx, kyy, kxy = 1e2*np.ones(g.num_cells), np.ones(g.num_cells), 8*np.ones(g.num_cells)\n",
    "kxx[Omega_1] = np.ones(np.sum(Omega_1))\n",
    "kyy[Omega_1] = 1e2*np.ones(np.sum(Omega_1))\n",
    "#perm = pp.SecondOrderTensor(kxx=kxx, kyy=kyy, kxy=kxy)                              \n",
    "f = g.cell_volumes"
   ]
  },
  {
   "cell_type": "markdown",
   "metadata": {},
   "source": [
    "#### Define Rotation matrix\n",
    "This enables us to rotate the permeability matrix about the coordinate axes"
   ]
  },
  {
   "cell_type": "code",
   "execution_count": 17,
   "metadata": {},
   "outputs": [],
   "source": [
    "def rot_mat(theta):\n",
    "    return np.array([[np.cos(theta), -np.sin(theta), 0], [np.sin(theta), np.cos(theta), 0], [0, 0, 0]])\n",
    "\n",
    "rot90CW = rot_mat(- np.pi / 4)"
   ]
  },
  {
   "cell_type": "code",
   "execution_count": 18,
   "metadata": {},
   "outputs": [],
   "source": [
    "perm = pp.SecondOrderTensor(kxx=kxx, kyy=kyy, kxy=kxy)\n",
    "# Rotate permeability matrix\n",
    "#perm.rotate(rot90CW)"
   ]
  },
  {
   "cell_type": "markdown",
   "metadata": {},
   "source": [
    "## Define boundary conditions \n"
   ]
  },
  {
   "cell_type": "code",
   "execution_count": 29,
   "metadata": {},
   "outputs": [],
   "source": [
    "b_faces = g.tags['domain_boundary_faces'].nonzero()[0]\n",
    "\n",
    "labels = np.array(['dir']*b_faces.size)\n",
    "labels[g.face_centers[1, b_faces] == 1.] = 'neu'\n",
    "\n",
    "# Do neumann on x=1 instead\n",
    "#labels[g.face_centers[0, b_faces] == 1.] = 'neu'\n",
    "\n",
    "#BC1:1 Try to add more Neumann!\n",
    "labels[g.face_centers[0, b_faces] == 1.] = 'neu'\n",
    "\n",
    "\n",
    "bc = pp.BoundaryCondition(g, b_faces, labels)\n",
    "\n",
    "bc_val = np.zeros(g.num_faces)\n",
    "bottom = b_faces[g.face_centers[1, b_faces] == 0.]\n",
    "bc_val[bottom] = np.ones(bottom.size)\n",
    "\n",
    "#BC1:2 Set Neumann values\n",
    "\n",
    "\n",
    "# Then set the appropriate value of the bc\n",
    "#left = b_faces[g.face_centers[0, b_faces] == 0.]\n",
    "#bc_val[left] = np.ones(left.size)"
   ]
  },
  {
   "cell_type": "code",
   "execution_count": 30,
   "metadata": {},
   "outputs": [],
   "source": [
    "specified_parameters = {\"second_order_tensor\": perm, \"source\": f, \"bc\": bc, \"bc_values\": bc_val}\n",
    "data = pp.initialize_default_data(g, {}, \"flow\", specified_parameters)"
   ]
  },
  {
   "cell_type": "markdown",
   "metadata": {},
   "source": [
    "## Solve the problem "
   ]
  },
  {
   "cell_type": "code",
   "execution_count": 31,
   "metadata": {},
   "outputs": [],
   "source": [
    "solver = pp.Tpfa(\"flow\")\n",
    "solver.discretize(g, data)\n",
    "A, b = solver.assemble_matrix_rhs(g, data)\n",
    "p = sps.linalg.spsolve(A, b)"
   ]
  },
  {
   "cell_type": "code",
   "execution_count": 32,
   "metadata": {},
   "outputs": [],
   "source": [
    "#p[p<0]=0"
   ]
  },
  {
   "cell_type": "code",
   "execution_count": 33,
   "metadata": {},
   "outputs": [
    {
     "data": {
      "image/png": "[encoded data removed]",
      "text/plain": [
       "<Figure size 1080x864 with 2 Axes>"
      ]
     },
     "metadata": {
      "needs_background": "light"
     },
     "output_type": "display_data"
    }
   ],
   "source": [
    "#pp.plot_grid(g, p, figsize=(15, 12), vmin=0., vmax=1.)\n",
    "pp.plot_grid(g, p, figsize=(15, 12), plot_2d=True)"
   ]
  },
  {
   "cell_type": "code",
   "execution_count": null,
   "metadata": {},
   "outputs": [],
   "source": []
  }
 ],
 "metadata": {
  "kernelspec": {
   "display_name": "Python 3",
   "language": "python",
   "name": "python3"
  },
  "language_info": {
   "codemirror_mode": {
    "name": "ipython",
    "version": 3
   },
   "file_extension": ".py",
   "mimetype": "text/x-python",
   "name": "python",
   "nbconvert_exporter": "python",
   "pygments_lexer": "ipython3",
   "version": "3.7.3"
  }
 },
 "nbformat": 4,
 "nbformat_minor": 2
}
