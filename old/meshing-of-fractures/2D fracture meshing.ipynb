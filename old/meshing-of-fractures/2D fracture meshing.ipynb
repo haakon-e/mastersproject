{
 "cells": [
  {
   "cell_type": "markdown",
   "metadata": {},
   "source": [
    "# Overview\n",
    "\n",
    "This notebook follows the `meshing_of_fractures.ipynb` in `porepy > tutorials` to set up simple fractured domains with gmsh(?)"
   ]
  },
  {
   "cell_type": "code",
   "execution_count": 1,
   "metadata": {},
   "outputs": [],
   "source": [
    "import numpy as np\n",
    "import porepy as pp"
   ]
  },
  {
   "cell_type": "code",
   "execution_count": 2,
   "metadata": {},
   "outputs": [],
   "source": [
    "# First, define 2D coordinates of fracture vertices (np.ndarray: 2 x n)\n",
    "p = np.array([[0, 2, 1, 1], [0, 0, 0, 1]])\n",
    "# Connect the endpoints of fracture vertices by an index mapping (np.ndarray 2 x num_fracs)\n",
    "e = np.array([[0, 2], [1, 3]])\n",
    "\n",
    "# Set domain boundaries\n",
    "domain = {'xmin': -2, 'xmax': 3, 'ymin': -2, 'ymax': 3}\n",
    "\n",
    "# Deine a fracture network in 2D\n",
    "network_2d = pp.FractureNetwork2d(p, e, domain)\n",
    "\n",
    "# Set preferred mesh size near the fracture and at the boundary\n",
    "mesh_args = {'mesh_size_frac': 0.2, 'mesh_size_bound': 0.3}\n",
    "\n",
    "# Generate a mixed-dimensional mesh\n",
    "gb = network_2d.mesh(mesh_args)"
   ]
  },
  {
   "cell_type": "code",
   "execution_count": 5,
   "metadata": {},
   "outputs": [
    {
     "ename": "AttributeError",
     "evalue": "'FractureNetwork2d' object has no attribute 'to_vtk'",
     "output_type": "error",
     "traceback": [
      "\u001b[0;31m---------------------------------------------------------------------------\u001b[0m",
      "\u001b[0;31mAttributeError\u001b[0m                            Traceback (most recent call last)",
      "\u001b[0;32m<ipython-input-5-c7da63f64401>\u001b[0m in \u001b[0;36m<module>\u001b[0;34m\u001b[0m\n\u001b[0;32m----> 1\u001b[0;31m \u001b[0mnetwork_2d\u001b[0m\u001b[0;34m.\u001b[0m\u001b[0mto_vtk\u001b[0m\u001b[0;34m(\u001b[0m\u001b[0;34m'fracture_network.vtu'\u001b[0m\u001b[0;34m)\u001b[0m\u001b[0;34m\u001b[0m\u001b[0;34m\u001b[0m\u001b[0m\n\u001b[0m",
      "\u001b[0;31mAttributeError\u001b[0m: 'FractureNetwork2d' object has no attribute 'to_vtk'"
     ]
    }
   ],
   "source": [
    "network_2d.to_vtk('fracture_network.vtu')"
   ]
  },
  {
   "cell_type": "code",
   "execution_count": 6,
   "metadata": {},
   "outputs": [
    {
     "name": "stderr",
     "output_type": "stream",
     "text": [
      "/home/haakon/anaconda3/lib/python3.7/site-packages/vtk/util/numpy_support.py:137: FutureWarning: Conversion of the second argument of issubdtype from `complex` to `np.complexfloating` is deprecated. In future, it will be treated as `np.complex128 == np.dtype(complex).type`.\n",
      "  assert not numpy.issubdtype(z.dtype, complex), \\\n"
     ]
    }
   ],
   "source": [
    "save = pp.Exporter(gb, \"frac_grid\", folder=\"results\")\n",
    "save.write_vtk()"
   ]
  },
  {
   "cell_type": "markdown",
   "metadata": {},
   "source": [
    "# 3D"
   ]
  },
  {
   "cell_type": "code",
   "execution_count": 8,
   "metadata": {},
   "outputs": [],
   "source": [
    "# Specify a fracture by its vertexes, as a 3xn array\n",
    "pts_1 = np.array([[0, 1, 2, 0], [0, 0, 1, 1], [0, 0, 1, 1]])\n",
    "f_1 = pp.Fracture(pts_1)\n",
    "\n",
    "# .. and another fracture, intersecting the first\n",
    "pts_2 = np.array([[0.5, 0.5, 0.5, 0.5], [-1, 2, 2, -1], [-1, -1, 2, 2]])\n",
    "f_2 = pp.Fracture(pts_2)\n",
    "\n",
    "# Specify the fracture center\n",
    "center = np.array([0.1, 0.3, 0.2])\n",
    "# The minor and major axis\n",
    "major_axis = 1.5\n",
    "minor_axis = 0.5\n",
    "\n",
    "# Rotate the major axis around the center.\n",
    "# Note that the angle is measured in radians\n",
    "major_axis_angle = np.pi/6\n",
    "\n",
    "# So far, the fracture is located in the xy-plane. To define the incline, specify the strike angle, and the dip angle.\n",
    "# Note that the dip rotation is carried out after the major_axis rotation (recall rotations are non-commutative).\n",
    "strike_angle = -np.pi/3\n",
    "dip_angle = -np.pi/3\n",
    "\n",
    "# Finally, the number of points used to approximate the ellipsis. \n",
    "# This is the only optional parameter; if not specified, 16 points will be used.\n",
    "num_pt = 12\n",
    "f_3 = pp.EllipticFracture(center, major_axis, minor_axis, major_axis_angle, strike_angle, dip_angle, num_points=num_pt)\n",
    "\n",
    "network = pp.FractureNetwork3d([f_1, f_2, f_3])\n",
    "\n",
    "network.to_vtk('fracture_network.vtu')"
   ]
  },
  {
   "cell_type": "code",
   "execution_count": null,
   "metadata": {},
   "outputs": [],
   "source": []
  }
 ],
 "metadata": {
  "kernelspec": {
   "display_name": "Python 3",
   "language": "python",
   "name": "python3"
  },
  "language_info": {
   "codemirror_mode": {
    "name": "ipython",
    "version": 3
   },
   "file_extension": ".py",
   "mimetype": "text/x-python",
   "name": "python",
   "nbconvert_exporter": "python",
   "pygments_lexer": "ipython3",
   "version": "3.7.3"
  }
 },
 "nbformat": 4,
 "nbformat_minor": 2
}
