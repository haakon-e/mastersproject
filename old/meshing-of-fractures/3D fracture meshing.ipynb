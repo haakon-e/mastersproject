{
 "cells": [
  {
   "cell_type": "markdown",
   "metadata": {},
   "source": [
    "# Overview\n",
    "3D fracture meshing"
   ]
  },
  {
   "cell_type": "code",
   "execution_count": 1,
   "metadata": {},
   "outputs": [],
   "source": [
    "import numpy as np\n",
    "import porepy as pp"
   ]
  },
  {
   "cell_type": "code",
   "execution_count": 2,
   "metadata": {},
   "outputs": [],
   "source": [
    "# Specify a fracture by its vertexes, as a 3xn array\n",
    "pts_1 = np.array([[0, 1, 2, 0], [0, 0, 1, 1], [0, 0, 1, 1]])\n",
    "f_1 = pp.Fracture(pts_1)\n",
    "\n",
    "# .. and another fracture, intersecting the first\n",
    "pts_2 = np.array([[0.5, 0.5, 0.5, 0.5], [-1, 2, 2, -1], [-1, -1, 2, 2]])\n",
    "f_2 = pp.Fracture(pts_2)\n",
    "\n",
    "# Specify the fracture center\n",
    "center = np.array([0.1, 0.3, 0.2])\n",
    "# The minor and major axis\n",
    "major_axis = 1.5\n",
    "minor_axis = 0.5\n",
    "\n",
    "# Rotate the major axis around the center.\n",
    "# Note that the angle is measured in radians\n",
    "major_axis_angle = np.pi/6\n",
    "\n",
    "# So far, the fracture is located in the xy-plane. To define the incline, specify the strike angle, and the dip angle.\n",
    "# Note that the dip rotation is carried out after the major_axis rotation (recall rotations are non-commutative).\n",
    "strike_angle = -np.pi/3\n",
    "dip_angle = -np.pi/3\n",
    "\n",
    "# Finally, the number of points used to approximate the ellipsis. \n",
    "# This is the only optional parameter; if not specified, 16 points will be used.\n",
    "num_pt = 12\n",
    "f_3 = pp.EllipticFracture(center, major_axis, minor_axis, major_axis_angle, strike_angle, dip_angle, num_points=num_pt)\n",
    "\n",
    "network = pp.FractureNetwork3d([f_1, f_2, f_3])\n",
    "\n",
    "#network.to_vtk('fracture_network.vtu')"
   ]
  },
  {
   "cell_type": "code",
   "execution_count": 3,
   "metadata": {},
   "outputs": [],
   "source": [
    "# The domain is a dictionary with fields xmin, xmax, etc.\n",
    "domain = {'xmin': -2, 'xmax': 3, 'ymin': -2, 'ymax': 3, 'zmin': -3, 'zmax': 3}\n",
    "network.impose_external_boundary(domain)"
   ]
  },
  {
   "cell_type": "code",
   "execution_count": 4,
   "metadata": {},
   "outputs": [],
   "source": [
    "network.find_intersections()"
   ]
  },
  {
   "cell_type": "code",
   "execution_count": 5,
   "metadata": {},
   "outputs": [
    {
     "data": {
      "text/plain": [
       "'In total 9 fractures intersect in 15 intersections'"
      ]
     },
     "execution_count": 5,
     "metadata": {},
     "output_type": "execute_result"
    }
   ],
   "source": [
    "network.intersection_info()"
   ]
  },
  {
   "cell_type": "code",
   "execution_count": 6,
   "metadata": {},
   "outputs": [],
   "source": [
    "network.split_intersections()"
   ]
  },
  {
   "cell_type": "code",
   "execution_count": null,
   "metadata": {},
   "outputs": [],
   "source": []
  }
 ],
 "metadata": {
  "kernelspec": {
   "display_name": "Python 3",
   "language": "python",
   "name": "python3"
  },
  "language_info": {
   "codemirror_mode": {
    "name": "ipython",
    "version": 3
   },
   "file_extension": ".py",
   "mimetype": "text/x-python",
   "name": "python",
   "nbconvert_exporter": "python",
   "pygments_lexer": "ipython3",
   "version": "3.7.3"
  }
 },
 "nbformat": 4,
 "nbformat_minor": 2
}
